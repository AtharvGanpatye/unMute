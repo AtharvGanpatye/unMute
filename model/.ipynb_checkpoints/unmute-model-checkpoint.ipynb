{
 "cells": [
  {
   "cell_type": "code",
   "execution_count": 1,
   "metadata": {},
   "outputs": [],
   "source": [
    "# !pip install tensorflow==2.4.1 tensorflow-gpu==2.4.1 opencv-python mediapipe sklearn matplotlib numpy"
   ]
  },
  {
   "cell_type": "code",
   "execution_count": 2,
   "metadata": {},
   "outputs": [],
   "source": [
    "import numpy as np\n",
    "import os, time\n",
    "import cv2\n",
    "import matplotlib.pyplot as plt\n",
    "import mediapipe as mp"
   ]
  },
  {
   "cell_type": "code",
   "execution_count": 3,
   "metadata": {},
   "outputs": [],
   "source": [
    "mp_holistic = mp.solutions.holistic  # Holistic Model\n",
    "mp_drawing = mp.solutions.drawing_utils  # Drawing Utilities"
   ]
  },
  {
   "cell_type": "code",
   "execution_count": 4,
   "metadata": {},
   "outputs": [],
   "source": [
    "def mediapipe_detection(image, model):\n",
    "    image = cv2.cvtColor(image, cv2.COLOR_BGR2RGB)    # Colour Conversion\n",
    "    image.flags.writeable = False\n",
    "    results = model.process(image)       # Model Makes Prediction\n",
    "    image.flags.writeable = True\n",
    "    image = cv2.cvtColor(image, cv2.COLOR_RGB2BGR)    # Colour Re-conversion\n",
    "    return image, results"
   ]
  },
  {
   "cell_type": "code",
   "execution_count": 5,
   "metadata": {},
   "outputs": [],
   "source": [
    "def draw_landmarks(image, results):\n",
    "#     mp_drawing.draw_landmarks(image, results.pose_landmarks, mp_holistic.POSE_CONNECTIONS)\n",
    "#     mp_drawing.draw_landmarks(image, results.face_landmarks, mp_holistic.FACEMESH_TESSELATION)\n",
    "#     mp_drawing.draw_landmarks(image, results.right_hand_landmarks, mp_holistic.HAND_CONNECTIONS)\n",
    "#     mp_drawing.draw_landmarks(image, results.left_hand_landmarks, mp_holistic.HAND_CONNECTIONS)\n",
    "\n",
    "# Draw face connections\n",
    "    mp_drawing.draw_landmarks(image, results.face_landmarks, mp_holistic.FACEMESH_TESSELATION, \n",
    "                             mp_drawing.DrawingSpec(color=(80,110,10), thickness=1, circle_radius=1), \n",
    "                             mp_drawing.DrawingSpec(color=(80,256,121), thickness=1, circle_radius=1)\n",
    "                             ) \n",
    "    # Draw pose connections\n",
    "    mp_drawing.draw_landmarks(image, results.pose_landmarks, mp_holistic.POSE_CONNECTIONS,\n",
    "                             mp_drawing.DrawingSpec(color=(80,22,10), thickness=2, circle_radius=4), \n",
    "                             mp_drawing.DrawingSpec(color=(80,44,121), thickness=2, circle_radius=2)\n",
    "                             ) \n",
    "    # Draw left hand connections\n",
    "    mp_drawing.draw_landmarks(image, results.left_hand_landmarks, mp_holistic.HAND_CONNECTIONS, \n",
    "                             mp_drawing.DrawingSpec(color=(121,22,76), thickness=2, circle_radius=4), \n",
    "                             mp_drawing.DrawingSpec(color=(121,44,250), thickness=2, circle_radius=2)\n",
    "                             ) \n",
    "    # Draw right hand connections  \n",
    "    mp_drawing.draw_landmarks(image, results.right_hand_landmarks, mp_holistic.HAND_CONNECTIONS, \n",
    "                             mp_drawing.DrawingSpec(color=(245,117,66), thickness=2, circle_radius=4), \n",
    "                             mp_drawing.DrawingSpec(color=(245,66,230), thickness=2, circle_radius=2)\n",
    "                             )"
   ]
  },
  {
   "cell_type": "code",
   "execution_count": 6,
   "metadata": {},
   "outputs": [
    {
     "data": {
      "text/plain": [
       "frozenset({(0, 1),\n",
       "           (0, 4),\n",
       "           (1, 2),\n",
       "           (2, 3),\n",
       "           (3, 7),\n",
       "           (4, 5),\n",
       "           (5, 6),\n",
       "           (6, 8),\n",
       "           (9, 10),\n",
       "           (11, 12),\n",
       "           (11, 13),\n",
       "           (11, 23),\n",
       "           (12, 14),\n",
       "           (12, 24),\n",
       "           (13, 15),\n",
       "           (14, 16),\n",
       "           (15, 17),\n",
       "           (15, 19),\n",
       "           (15, 21),\n",
       "           (16, 18),\n",
       "           (16, 20),\n",
       "           (16, 22),\n",
       "           (17, 19),\n",
       "           (18, 20),\n",
       "           (23, 24),\n",
       "           (23, 25),\n",
       "           (24, 26),\n",
       "           (25, 27),\n",
       "           (26, 28),\n",
       "           (27, 29),\n",
       "           (27, 31),\n",
       "           (28, 30),\n",
       "           (28, 32),\n",
       "           (29, 31),\n",
       "           (30, 32)})"
      ]
     },
     "execution_count": 6,
     "metadata": {},
     "output_type": "execute_result"
    }
   ],
   "source": [
    "mp_holistic.POSE_CONNECTIONS"
   ]
  },
  {
   "cell_type": "code",
   "execution_count": 7,
   "metadata": {},
   "outputs": [],
   "source": [
    "cap = cv2.VideoCapture(0)\n",
    "with mp_holistic.Holistic(min_detection_confidence=0.6, min_tracking_confidence=0.6) as holistic:\n",
    "    while cap.isOpened():\n",
    "        # Capture Video\n",
    "        ret, frame = cap.read()\n",
    "\n",
    "        # Detect Keypoints\n",
    "        image, results = mediapipe_detection(frame, holistic)\n",
    "        #print(results)\n",
    "\n",
    "        # Draw Landmarks\n",
    "        draw_landmarks(image, results)\n",
    "        \n",
    "        # Show Video\n",
    "        cv2.imshow('OpenCV Webcam', image)\n",
    "        # Quit\n",
    "        if cv2.waitKey(10) & 0xFF == ord('q'):\n",
    "            break\n",
    "\n",
    "    cap.release()\n",
    "    cv2.destroyAllWindows()"
   ]
  },
  {
   "cell_type": "code",
   "execution_count": 8,
   "metadata": {},
   "outputs": [
    {
     "data": {
      "text/plain": [
       "array([[[116, 119, 143],\n",
       "        [121, 125, 149],\n",
       "        [128, 133, 153],\n",
       "        ...,\n",
       "        [201, 183, 168],\n",
       "        [216, 195, 178],\n",
       "        [249, 227, 210]],\n",
       "\n",
       "       [[133, 125, 149],\n",
       "        [136, 128, 152],\n",
       "        [138, 136, 155],\n",
       "        ...,\n",
       "        [203, 165, 144],\n",
       "        [225, 189, 163],\n",
       "        [255, 219, 193]],\n",
       "\n",
       "       [[112, 121, 140],\n",
       "        [112, 121, 140],\n",
       "        [112, 122, 138],\n",
       "        ...,\n",
       "        [174, 161, 147],\n",
       "        [194, 188, 164],\n",
       "        [217, 211, 187]],\n",
       "\n",
       "       ...,\n",
       "\n",
       "       [[108, 107, 139],\n",
       "        [104, 102, 134],\n",
       "        [101, 100, 132],\n",
       "        ...,\n",
       "        [ 36,  33,  22],\n",
       "        [ 35,  36,  22],\n",
       "        [ 37,  37,  23]],\n",
       "\n",
       "       [[101, 105, 141],\n",
       "        [ 99, 103, 138],\n",
       "        [ 99, 103, 137],\n",
       "        ...,\n",
       "        [ 31,  35,  25],\n",
       "        [ 31,  35,  23],\n",
       "        [ 31,  35,  23]],\n",
       "\n",
       "       [[109, 103, 141],\n",
       "        [106, 100, 137],\n",
       "        [108, 104, 136],\n",
       "        ...,\n",
       "        [ 33,  35,  28],\n",
       "        [ 31,  35,  23],\n",
       "        [ 30,  34,  22]]], dtype=uint8)"
      ]
     },
     "execution_count": 8,
     "metadata": {},
     "output_type": "execute_result"
    }
   ],
   "source": [
    "frame"
   ]
  },
  {
   "cell_type": "code",
   "execution_count": 9,
   "metadata": {},
   "outputs": [
    {
     "data": {
      "text/plain": [
       "<matplotlib.image.AxesImage at 0x7fdfb080cf50>"
      ]
     },
     "execution_count": 9,
     "metadata": {},
     "output_type": "execute_result"
    },
    {
     "data": {
      "image/png": "[encoded data removed]",
      "text/plain": [
       "<Figure size 432x288 with 1 Axes>"
      ]
     },
     "metadata": {
      "needs_background": "light"
     },
     "output_type": "display_data"
    }
   ],
   "source": [
    "plt.imshow(cv2.cvtColor(frame, cv2.COLOR_BGR2RGB))"
   ]
  },
  {
   "cell_type": "code",
   "execution_count": 10,
   "metadata": {},
   "outputs": [
    {
     "data": {
      "text/plain": [
       "mediapipe.python.solution_base.SolutionOutputs"
      ]
     },
     "execution_count": 10,
     "metadata": {},
     "output_type": "execute_result"
    }
   ],
   "source": [
    "results"
   ]
  },
  {
   "cell_type": "code",
   "execution_count": 11,
   "metadata": {},
   "outputs": [],
   "source": [
    "draw_landmarks(frame, results)"
   ]
  },
  {
   "cell_type": "code",
   "execution_count": 12,
   "metadata": {},
   "outputs": [
    {
     "data": {
      "text/plain": [
       "<matplotlib.image.AxesImage at 0x7fdfb079bd90>"
      ]
     },
     "execution_count": 12,
     "metadata": {},
     "output_type": "execute_result"
    },
    {
     "data": {
      "image/png": "[encoded data removed]",
      "text/plain": [
       "<Figure size 432x288 with 1 Axes>"
      ]
     },
     "metadata": {
      "needs_background": "light"
     },
     "output_type": "display_data"
    }
   ],
   "source": [
    "plt.imshow(cv2.cvtColor(frame, cv2.COLOR_BGR2RGB))"
   ]
  },
  {
   "cell_type": "markdown",
   "metadata": {},
   "source": [
    "### Extract Keypoints"
   ]
  },
  {
   "cell_type": "code",
   "execution_count": 13,
   "metadata": {},
   "outputs": [
    {
     "data": {
      "text/plain": [
       "landmark {\n",
       "  x: 0.6525471210479736\n",
       "  y: 0.5166000723838806\n",
       "  z: -1.9793226718902588\n",
       "  visibility: 0.9994332790374756\n",
       "}\n",
       "landmark {\n",
       "  x: 0.6932245492935181\n",
       "  y: 0.40837275981903076\n",
       "  z: -1.899271011352539\n",
       "  visibility: 0.9992756843566895\n",
       "}\n",
       "landmark {\n",
       "  x: 0.7143498659133911\n",
       "  y: 0.4061475992202759\n",
       "  z: -1.899413824081421\n",
       "  visibility: 0.9990729093551636\n",
       "}\n",
       "landmark {\n",
       "  x: 0.7365448474884033\n",
       "  y: 0.4036484360694885\n",
       "  z: -1.8992506265640259\n",
       "  visibility: 0.9988756775856018\n",
       "}\n",
       "landmark {\n",
       "  x: 0.6260929703712463\n",
       "  y: 0.3984886705875397\n",
       "  z: -1.9303869009017944\n",
       "  visibility: 0.9992492198944092\n",
       "}\n",
       "landmark {\n",
       "  x: 0.5946294069290161\n",
       "  y: 0.38665375113487244\n",
       "  z: -1.9300892353057861\n",
       "  visibility: 0.9991934299468994\n",
       "}\n",
       "landmark {\n",
       "  x: 0.5625715851783752\n",
       "  y: 0.37361377477645874\n",
       "  z: -1.930586814880371\n",
       "  visibility: 0.9992908835411072\n",
       "}\n",
       "landmark {\n",
       "  x: 0.746016263961792\n",
       "  y: 0.42396634817123413\n",
       "  z: -1.199108600616455\n",
       "  visibility: 0.9990132451057434\n",
       "}\n",
       "landmark {\n",
       "  x: 0.4675667881965637\n",
       "  y: 0.39348989725112915\n",
       "  z: -1.2874165773391724\n",
       "  visibility: 0.9994955658912659\n",
       "}\n",
       "landmark {\n",
       "  x: 0.6753119230270386\n",
       "  y: 0.6021289825439453\n",
       "  z: -1.691375494003296\n",
       "  visibility: 0.9987983107566833\n",
       "}\n",
       "landmark {\n",
       "  x: 0.5870106816291809\n",
       "  y: 0.588653028011322\n",
       "  z: -1.7251554727554321\n",
       "  visibility: 0.9991085529327393\n",
       "}\n",
       "landmark {\n",
       "  x: 0.8738352060317993\n",
       "  y: 0.7422120571136475\n",
       "  z: -0.7077344655990601\n",
       "  visibility: 0.977139413356781\n",
       "}\n",
       "landmark {\n",
       "  x: 0.27058911323547363\n",
       "  y: 0.7637982964515686\n",
       "  z: -1.035901427268982\n",
       "  visibility: 0.9919863343238831\n",
       "}\n",
       "landmark {\n",
       "  x: 1.0617254972457886\n",
       "  y: 1.2615680694580078\n",
       "  z: -1.3419767618179321\n",
       "  visibility: 0.20103833079338074\n",
       "}\n",
       "landmark {\n",
       "  x: 0.22730836272239685\n",
       "  y: 1.0525544881820679\n",
       "  z: -1.9784281253814697\n",
       "  visibility: 0.9404545426368713\n",
       "}\n",
       "landmark {\n",
       "  x: 1.0473968982696533\n",
       "  y: 1.0565026998519897\n",
       "  z: -2.232774019241333\n",
       "  visibility: 0.4265226125717163\n",
       "}\n",
       "landmark {\n",
       "  x: 0.4518399238586426\n",
       "  y: 0.42072591185569763\n",
       "  z: -2.912879467010498\n",
       "  visibility: 0.9838488101959229\n",
       "}\n",
       "landmark {\n",
       "  x: 1.0739561319351196\n",
       "  y: 1.0198142528533936\n",
       "  z: -2.3792624473571777\n",
       "  visibility: 0.41321316361427307\n",
       "}\n",
       "landmark {\n",
       "  x: 0.5206567645072937\n",
       "  y: 0.22087663412094116\n",
       "  z: -3.109144926071167\n",
       "  visibility: 0.9591810703277588\n",
       "}\n",
       "landmark {\n",
       "  x: 1.0561516284942627\n",
       "  y: 0.9475999474525452\n",
       "  z: -2.3015809059143066\n",
       "  visibility: 0.4645177125930786\n",
       "}\n",
       "landmark {\n",
       "  x: 0.5065233707427979\n",
       "  y: 0.17524920403957367\n",
       "  z: -2.9613852500915527\n",
       "  visibility: 0.9642358422279358\n",
       "}\n",
       "landmark {\n",
       "  x: 1.0243462324142456\n",
       "  y: 0.9694193601608276\n",
       "  z: -2.2377829551696777\n",
       "  visibility: 0.4484211802482605\n",
       "}\n",
       "landmark {\n",
       "  x: 0.4945620596408844\n",
       "  y: 0.2499580979347229\n",
       "  z: -2.876283884048462\n",
       "  visibility: 0.9497756958007812\n",
       "}\n",
       "landmark {\n",
       "  x: 0.7944754362106323\n",
       "  y: 1.8638291358947754\n",
       "  z: -0.05133911222219467\n",
       "  visibility: 0.0037242488469928503\n",
       "}\n",
       "landmark {\n",
       "  x: 0.3810640871524811\n",
       "  y: 1.8681564331054688\n",
       "  z: 0.056531064212322235\n",
       "  visibility: 0.00506391329690814\n",
       "}\n",
       "landmark {\n",
       "  x: 0.7923151254653931\n",
       "  y: 2.754826545715332\n",
       "  z: -0.06113024801015854\n",
       "  visibility: 0.007822174578905106\n",
       "}\n",
       "landmark {\n",
       "  x: 0.4441078305244446\n",
       "  y: 2.778517246246338\n",
       "  z: 0.07391896843910217\n",
       "  visibility: 0.0048501379787921906\n",
       "}\n",
       "landmark {\n",
       "  x: 0.7868062257766724\n",
       "  y: 3.539912462234497\n",
       "  z: 0.8199057579040527\n",
       "  visibility: 0.00040023832116276026\n",
       "}\n",
       "landmark {\n",
       "  x: 0.4728863835334778\n",
       "  y: 3.546353578567505\n",
       "  z: 0.6211405992507935\n",
       "  visibility: 0.0001111173041863367\n",
       "}\n",
       "landmark {\n",
       "  x: 0.7890489101409912\n",
       "  y: 3.6545820236206055\n",
       "  z: 0.8608826398849487\n",
       "  visibility: 0.00022513886506203562\n",
       "}\n",
       "landmark {\n",
       "  x: 0.4657333493232727\n",
       "  y: 3.65027117729187\n",
       "  z: 0.6554268598556519\n",
       "  visibility: 0.00010610212484607473\n",
       "}\n",
       "landmark {\n",
       "  x: 0.7473949193954468\n",
       "  y: 3.8132095336914062\n",
       "  z: -0.00033408275339752436\n",
       "  visibility: 0.0007084890967234969\n",
       "}\n",
       "landmark {\n",
       "  x: 0.5458112359046936\n",
       "  y: 3.828462839126587\n",
       "  z: -0.2941402792930603\n",
       "  visibility: 0.0005405682604759932\n",
       "}"
      ]
     },
     "execution_count": 13,
     "metadata": {},
     "output_type": "execute_result"
    }
   ],
   "source": [
    "results.pose_landmarks"
   ]
  },
  {
   "cell_type": "code",
   "execution_count": 14,
   "metadata": {},
   "outputs": [],
   "source": [
    "pose_landmarks = []\n",
    "for data in results.pose_landmarks.landmark:\n",
    "    temp = np.array([data.x, data.y, data.z, data.visibility])\n",
    "    pose_landmarks.append(temp)"
   ]
  },
  {
   "cell_type": "code",
   "execution_count": 15,
   "metadata": {},
   "outputs": [
    {
     "data": {
      "text/plain": [
       "array([ 5.45811236e-01,  3.82846284e+00, -2.94140279e-01,  5.40568260e-04])"
      ]
     },
     "execution_count": 15,
     "metadata": {},
     "output_type": "execute_result"
    }
   ],
   "source": [
    "temp"
   ]
  },
  {
   "cell_type": "code",
   "execution_count": 16,
   "metadata": {
    "scrolled": true
   },
   "outputs": [
    {
     "data": {
      "text/plain": [
       "[array([ 0.65254712,  0.51660007, -1.97932267,  0.99943328]),\n",
       " array([ 0.69322455,  0.40837276, -1.89927101,  0.99927568]),\n",
       " array([ 0.71434987,  0.4061476 , -1.89941382,  0.99907291]),\n",
       " array([ 0.73654485,  0.40364844, -1.89925063,  0.99887568]),\n",
       " array([ 0.62609297,  0.39848867, -1.9303869 ,  0.99924922]),\n",
       " array([ 0.59462941,  0.38665375, -1.93008924,  0.99919343]),\n",
       " array([ 0.56257159,  0.37361377, -1.93058681,  0.99929088]),\n",
       " array([ 0.74601626,  0.42396635, -1.1991086 ,  0.99901325]),\n",
       " array([ 0.46756679,  0.3934899 , -1.28741658,  0.99949557]),\n",
       " array([ 0.67531192,  0.60212898, -1.69137549,  0.99879831]),\n",
       " array([ 0.58701068,  0.58865303, -1.72515547,  0.99910855]),\n",
       " array([ 0.87383521,  0.74221206, -0.70773447,  0.97713941]),\n",
       " array([ 0.27058911,  0.7637983 , -1.03590143,  0.99198633]),\n",
       " array([ 1.0617255 ,  1.26156807, -1.34197676,  0.20103833]),\n",
       " array([ 0.22730836,  1.05255449, -1.97842813,  0.94045454]),\n",
       " array([ 1.0473969 ,  1.0565027 , -2.23277402,  0.42652261]),\n",
       " array([ 0.45183992,  0.42072591, -2.91287947,  0.98384881]),\n",
       " array([ 1.07395613,  1.01981425, -2.37926245,  0.41321316]),\n",
       " array([ 0.52065676,  0.22087663, -3.10914493,  0.95918107]),\n",
       " array([ 1.05615163,  0.94759995, -2.30158091,  0.46451771]),\n",
       " array([ 0.50652337,  0.1752492 , -2.96138525,  0.96423584]),\n",
       " array([ 1.02434623,  0.96941936, -2.23778296,  0.44842118]),\n",
       " array([ 0.49456206,  0.2499581 , -2.87628388,  0.9497757 ]),\n",
       " array([ 0.79447544,  1.86382914, -0.05133911,  0.00372425]),\n",
       " array([0.38106409, 1.86815643, 0.05653106, 0.00506391]),\n",
       " array([ 0.79231513,  2.75482655, -0.06113025,  0.00782217]),\n",
       " array([0.44410783, 2.77851725, 0.07391897, 0.00485014]),\n",
       " array([7.86806226e-01, 3.53991246e+00, 8.19905758e-01, 4.00238321e-04]),\n",
       " array([4.72886384e-01, 3.54635358e+00, 6.21140599e-01, 1.11117304e-04]),\n",
       " array([7.89048910e-01, 3.65458202e+00, 8.60882640e-01, 2.25138865e-04]),\n",
       " array([4.65733349e-01, 3.65027118e+00, 6.55426860e-01, 1.06102125e-04]),\n",
       " array([ 7.47394919e-01,  3.81320953e+00, -3.34082753e-04,  7.08489097e-04]),\n",
       " array([ 5.45811236e-01,  3.82846284e+00, -2.94140279e-01,  5.40568260e-04])]"
      ]
     },
     "execution_count": 16,
     "metadata": {},
     "output_type": "execute_result"
    }
   ],
   "source": [
    "pose_landmarks"
   ]
  },
  {
   "cell_type": "code",
   "execution_count": 17,
   "metadata": {},
   "outputs": [
    {
     "data": {
      "text/plain": [
       "['__add__',\n",
       " '__class__',\n",
       " '__contains__',\n",
       " '__delattr__',\n",
       " '__dir__',\n",
       " '__doc__',\n",
       " '__eq__',\n",
       " '__format__',\n",
       " '__ge__',\n",
       " '__getattribute__',\n",
       " '__getitem__',\n",
       " '__getnewargs__',\n",
       " '__gt__',\n",
       " '__hash__',\n",
       " '__init__',\n",
       " '__init_subclass__',\n",
       " '__iter__',\n",
       " '__le__',\n",
       " '__len__',\n",
       " '__lt__',\n",
       " '__module__',\n",
       " '__mul__',\n",
       " '__ne__',\n",
       " '__new__',\n",
       " '__reduce__',\n",
       " '__reduce_ex__',\n",
       " '__repr__',\n",
       " '__rmul__',\n",
       " '__setattr__',\n",
       " '__sizeof__',\n",
       " '__slots__',\n",
       " '__str__',\n",
       " '__subclasshook__',\n",
       " '_asdict',\n",
       " '_field_defaults',\n",
       " '_fields',\n",
       " '_fields_defaults',\n",
       " '_make',\n",
       " '_replace',\n",
       " 'count',\n",
       " 'face_landmarks',\n",
       " 'index',\n",
       " 'left_hand_landmarks',\n",
       " 'pose_landmarks',\n",
       " 'pose_world_landmarks',\n",
       " 'right_hand_landmarks',\n",
       " 'segmentation_mask']"
      ]
     },
     "execution_count": 17,
     "metadata": {},
     "output_type": "execute_result"
    }
   ],
   "source": [
    "dir(results)"
   ]
  },
  {
   "cell_type": "code",
   "execution_count": 18,
   "metadata": {},
   "outputs": [
    {
     "data": {
      "text/plain": [
       "468"
      ]
     },
     "execution_count": 18,
     "metadata": {},
     "output_type": "execute_result"
    }
   ],
   "source": [
    "len(results.face_landmarks.landmark)"
   ]
  },
  {
   "cell_type": "code",
   "execution_count": 19,
   "metadata": {},
   "outputs": [
    {
     "data": {
      "text/plain": [
       "33"
      ]
     },
     "execution_count": 19,
     "metadata": {},
     "output_type": "execute_result"
    }
   ],
   "source": [
    "len(results.pose_landmarks.landmark)"
   ]
  },
  {
   "cell_type": "code",
   "execution_count": 20,
   "metadata": {},
   "outputs": [
    {
     "data": {
      "text/plain": [
       "21"
      ]
     },
     "execution_count": 20,
     "metadata": {},
     "output_type": "execute_result"
    }
   ],
   "source": [
    "len(results.right_hand_landmarks.landmark)"
   ]
  },
  {
   "cell_type": "code",
   "execution_count": 21,
   "metadata": {},
   "outputs": [],
   "source": [
    "# Function to extract landmarks and convert to matrix\n",
    "def extract_keypoints(results):\n",
    "    pose = np.array([[res.x, res.y, res.z, res.visibility] for res in results.pose_landmarks.landmark]).flatten() if results.pose_landmarks else np.zeros(33*4)\n",
    "    face = np.array([[res.x, res.y, res.z] for res in results.face_landmarks.landmark]).flatten() if results.face_landmarks else np.zeros(468*3)\n",
    "    lh = np.array([[res.x, res.y, res.z] for res in results.left_hand_landmarks.landmark]).flatten() if results.left_hand_landmarks else np.zeros(21*3)\n",
    "    rh = np.array([[res.x, res.y, res.z] for res in results.right_hand_landmarks.landmark]).flatten() if results.right_hand_landmarks else np.zeros(21*3)\n",
    "    return np.concatenate([pose, face, lh, rh])"
   ]
  },
  {
   "cell_type": "code",
   "execution_count": 22,
   "metadata": {},
   "outputs": [
    {
     "data": {
      "text/plain": [
       "array([ 0.65254712,  0.51660007, -1.97932267, ...,  0.6817807 ,\n",
       "        0.06824809,  0.05036467])"
      ]
     },
     "execution_count": 22,
     "metadata": {},
     "output_type": "execute_result"
    }
   ],
   "source": [
    "extract_keypoints(results)"
   ]
  },
  {
   "cell_type": "code",
   "execution_count": 23,
   "metadata": {},
   "outputs": [
    {
     "name": "stdout",
     "output_type": "stream",
     "text": [
      "1662\n"
     ]
    }
   ],
   "source": [
    "# 468 points & x,y,z\n",
    "n_face = 468 * 3 \n",
    "\n",
    "# 33 points & x,y,z,visibility\n",
    "n_pose = 33 * 4\n",
    "\n",
    "# 21 points & x,y,z\n",
    "n_lh = 21 * 3\n",
    "n_rh = 21 * 3\n",
    "\n",
    "print(n_face + n_pose + n_lh + n_rh)"
   ]
  },
  {
   "cell_type": "code",
   "execution_count": 24,
   "metadata": {},
   "outputs": [
    {
     "name": "stdout",
     "output_type": "stream",
     "text": [
      "1662\n"
     ]
    }
   ],
   "source": [
    "# These are keypoints captured in 1 frame --> Flattened Into 1D Array of length 1662\n",
    "print(len(extract_keypoints(results)))"
   ]
  },
  {
   "cell_type": "markdown",
   "metadata": {},
   "source": [
    "### Setup Folders For Data-Set"
   ]
  },
  {
   "cell_type": "code",
   "execution_count": 25,
   "metadata": {},
   "outputs": [],
   "source": [
    "# Data created as numpy matrix will be stored here\n",
    "DATA_PATH = os.path.join('Signs_Data')\n",
    "\n",
    "# Actions to be detected\n",
    "actions = np.array(['bye','goodmorning','hello','namaste','thankyou'])\n",
    "\n",
    "no_sequences = 30\n",
    "\n",
    "sequence_length = 30"
   ]
  },
  {
   "cell_type": "code",
   "execution_count": 26,
   "metadata": {},
   "outputs": [],
   "source": [
    "for action in actions:\n",
    "    for video in range(no_sequences):\n",
    "        try:\n",
    "            os.makedirs(os.path.join(DATA_PATH, action, str(video)))\n",
    "        except:\n",
    "            pass"
   ]
  },
  {
   "cell_type": "markdown",
   "metadata": {},
   "source": [
    "### Collect Data"
   ]
  },
  {
   "cell_type": "code",
   "execution_count": 27,
   "metadata": {},
   "outputs": [],
   "source": [
    "cap = cv2.VideoCapture(0)\n",
    "# Set mediapipe model \n",
    "with mp_holistic.Holistic(min_detection_confidence=0.5, min_tracking_confidence=0.5) as holistic:\n",
    "    \n",
    "    # NEW LOOP\n",
    "    # Loop through actions\n",
    "    for action in actions:\n",
    "        # Loop through sequences aka videos\n",
    "        for sequence in range(no_sequences):\n",
    "            # Loop through video length aka sequence length\n",
    "            for frame_num in range(sequence_length):\n",
    "\n",
    "                # Read feed\n",
    "                ret, frame = cap.read()\n",
    "\n",
    "                # Make detections\n",
    "                image, results = mediapipe_detection(frame, holistic)\n",
    "                #print(results)\n",
    "\n",
    "                # Draw landmarks\n",
    "                draw_landmarks(image, results)\n",
    "                \n",
    "                # NEW Apply wait logic\n",
    "                if frame_num == 0: \n",
    "                    cv2.putText(image, 'STARTING COLLECTION', (120,200), \n",
    "                               cv2.FONT_HERSHEY_SIMPLEX, 1, (0,255, 0), 4, cv2.LINE_AA)\n",
    "                    cv2.putText(image, 'Collecting frames for {} Video Number {}'.format(action, sequence), (15,12), \n",
    "                               cv2.FONT_HERSHEY_SIMPLEX, 0.5, (0, 0, 255), 1, cv2.LINE_AA)\n",
    "                    # Show to screen\n",
    "                    cv2.imshow('OpenCV Feed', image)\n",
    "                    cv2.waitKey(2000)\n",
    "                else: \n",
    "                    cv2.putText(image, 'Collecting frames for {} Video Number {}'.format(action, sequence), (15,12), \n",
    "                               cv2.FONT_HERSHEY_SIMPLEX, 0.5, (0, 0, 255), 1, cv2.LINE_AA)\n",
    "                    # Show to screen\n",
    "                    cv2.imshow('OpenCV Feed', image)\n",
    "                \n",
    "                # NEW Export keypoints\n",
    "                keypoints = extract_keypoints(results)\n",
    "                npy_path = os.path.join(DATA_PATH, action, str(sequence), str(frame_num))\n",
    "                np.save(npy_path, keypoints)\n",
    "\n",
    "                # Break gracefully\n",
    "                if cv2.waitKey(10) & 0xFF == ord('q'):\n",
    "                    break\n",
    "                    \n",
    "    cap.release()\n",
    "    cv2.destroyAllWindows()"
   ]
  },
  {
   "cell_type": "code",
   "execution_count": 28,
   "metadata": {},
   "outputs": [],
   "source": [
    "cap.release()\n",
    "cv2.destroyAllWindows()"
   ]
  },
  {
   "cell_type": "markdown",
   "metadata": {},
   "source": [
    "### Collect Data From Video"
   ]
  },
  {
   "cell_type": "code",
   "execution_count": 26,
   "metadata": {},
   "outputs": [],
   "source": [
    "# Data created as numpy matrix will be stored here\n",
    "DATA_PATH = os.path.join('Signs_Data')\n",
    "\n",
    "# Actions to be detected\n",
    "actions = np.array(['bye','goodmorning','hello','namaste','thankyou'])\n",
    "\n",
    "# Number of Videos Of Each Sign\n",
    "no_sequences = 30\n",
    "\n",
    "# Number Of Frames Per Video\n",
    "sequence_length = 30"
   ]
  },
  {
   "cell_type": "code",
   "execution_count": 37,
   "metadata": {},
   "outputs": [],
   "source": [
    "base_dir = os.path.join(os.getcwd(), 'Signs_Videos')\n",
    "\n",
    "# Set mediapipe model \n",
    "with mp_holistic.Holistic(min_detection_confidence=0.5, min_tracking_confidence=0.5) as holistic:\n",
    "    \n",
    "    # Loop through actions\n",
    "    for action in actions:\n",
    "        \n",
    "        sign_path = os.path.join(base_dir, action)\n",
    "        \n",
    "        # Loop through number of videos\n",
    "        for sequence in range(no_sequences): \n",
    "            \n",
    "            file_name = f'{action}-{sequence}.mp4'\n",
    "            vid_path = os.path.join(sign_path, file_name)\n",
    "            \n",
    "            cap = cv2.VideoCapture(vid_path)\n",
    "            \n",
    "            # Loop through each video i.e number of frames per video\n",
    "            for frame_num in range(sequence_length):\n",
    "                \n",
    "                # Read feed\n",
    "                ret, frame = cap.read()\n",
    "\n",
    "                # Make detections\n",
    "                image, results = mediapipe_detection(frame, holistic)\n",
    "                #print(results)\n",
    "\n",
    "                # Draw landmarks\n",
    "                draw_landmarks(image, results)\n",
    "                \n",
    "                # Show Videos\n",
    "                cv2.imshow('OpenCV Feed', image)\n",
    "                \n",
    "                # NEW Export keypoints\n",
    "                keypoints = extract_keypoints(results)\n",
    "                npy_path = os.path.join(DATA_PATH, action, str(sequence), str(frame_num))\n",
    "                np.save(npy_path, keypoints)\n",
    "\n",
    "                # Break gracefully\n",
    "                if cv2.waitKey(10) & 0xFF == ord('q'):\n",
    "                    break\n",
    "                    "
   ]
  },
  {
   "cell_type": "code",
   "execution_count": 38,
   "metadata": {},
   "outputs": [],
   "source": [
    "cap.release()\n",
    "cv2.destroyAllWindows()"
   ]
  },
  {
   "cell_type": "markdown",
   "metadata": {},
   "source": [
    "### Preprocess Data & Create Labels"
   ]
  },
  {
   "cell_type": "code",
   "execution_count": 27,
   "metadata": {},
   "outputs": [],
   "source": [
    "from sklearn.model_selection import train_test_split"
   ]
  },
  {
   "cell_type": "code",
   "execution_count": 28,
   "metadata": {},
   "outputs": [],
   "source": [
    "from tensorflow.keras.utils import to_categorical"
   ]
  },
  {
   "cell_type": "code",
   "execution_count": 29,
   "metadata": {},
   "outputs": [],
   "source": [
    "label_map = {label : num for num, label in enumerate(actions) }"
   ]
  },
  {
   "cell_type": "code",
   "execution_count": 30,
   "metadata": {},
   "outputs": [
    {
     "data": {
      "text/plain": [
       "{'bye': 0, 'goodmorning': 1, 'hello': 2, 'namaste': 3, 'thankyou': 4}"
      ]
     },
     "execution_count": 30,
     "metadata": {},
     "output_type": "execute_result"
    }
   ],
   "source": [
    "label_map"
   ]
  },
  {
   "cell_type": "code",
   "execution_count": 31,
   "metadata": {},
   "outputs": [],
   "source": [
    "sequences, labels = [], []\n",
    "\n",
    "for action in actions:\n",
    "    for sequence in range(no_sequences):\n",
    "        window = []\n",
    "        for frame_num in range(sequence_length):\n",
    "            res = np.load(os.path.join(DATA_PATH, action, str(sequence), f'{frame_num}.npy'))\n",
    "            window.append(res)\n",
    "        sequences.append(window)\n",
    "        labels.append(label_map[action])"
   ]
  },
  {
   "cell_type": "code",
   "execution_count": 32,
   "metadata": {},
   "outputs": [
    {
     "data": {
      "text/plain": [
       "(150, 30, 1662)"
      ]
     },
     "execution_count": 32,
     "metadata": {},
     "output_type": "execute_result"
    }
   ],
   "source": [
    "np.array(sequences).shape"
   ]
  },
  {
   "cell_type": "code",
   "execution_count": 33,
   "metadata": {},
   "outputs": [],
   "source": [
    "X = np.array(sequences)"
   ]
  },
  {
   "cell_type": "code",
   "execution_count": 34,
   "metadata": {},
   "outputs": [
    {
     "data": {
      "text/plain": [
       "array([[[ 0.00000000e+00,  0.00000000e+00,  0.00000000e+00, ...,\n",
       "          0.00000000e+00,  0.00000000e+00,  0.00000000e+00],\n",
       "        [ 0.00000000e+00,  0.00000000e+00,  0.00000000e+00, ...,\n",
       "          0.00000000e+00,  0.00000000e+00,  0.00000000e+00],\n",
       "        [ 0.00000000e+00,  0.00000000e+00,  0.00000000e+00, ...,\n",
       "          0.00000000e+00,  0.00000000e+00,  0.00000000e+00],\n",
       "        ...,\n",
       "        [ 5.15856326e-01,  3.47651899e-01, -6.00714564e-01, ...,\n",
       "          2.25222647e-01,  1.52158707e-01, -3.25482599e-02],\n",
       "        [ 5.15913367e-01,  3.47922385e-01, -5.79673290e-01, ...,\n",
       "          2.64259160e-01,  1.42518222e-01, -1.69735570e-02],\n",
       "        [ 5.16361654e-01,  3.48661125e-01, -5.12776613e-01, ...,\n",
       "          3.05774570e-01,  1.51819214e-01, -8.43608193e-03]],\n",
       "\n",
       "       [[ 5.16361892e-01,  3.49117339e-01, -4.36376333e-01, ...,\n",
       "          3.00768554e-01,  1.49129242e-01, -2.30549816e-02],\n",
       "        [ 5.17155945e-01,  3.49082172e-01, -4.42119449e-01, ...,\n",
       "          2.93328404e-01,  1.51575282e-01, -1.59529969e-02],\n",
       "        [ 5.16558707e-01,  3.49327981e-01, -4.56383526e-01, ...,\n",
       "          2.54989564e-01,  1.50339395e-01, -1.95196029e-02],\n",
       "        ...,\n",
       "        [ 5.21725118e-01,  3.62551481e-01, -6.97551131e-01, ...,\n",
       "          2.51756698e-01,  1.58716619e-01, -1.80176254e-02],\n",
       "        [ 5.22427976e-01,  3.64806056e-01, -7.10204959e-01, ...,\n",
       "          2.53723979e-01,  1.58258140e-01, -1.93613116e-02],\n",
       "        [ 5.23260951e-01,  3.66189927e-01, -6.98359847e-01, ...,\n",
       "          2.46248573e-01,  1.65148690e-01, -2.50197966e-02]],\n",
       "\n",
       "       [[ 5.25252223e-01,  3.66619796e-01, -6.88258529e-01, ...,\n",
       "          2.29686350e-01,  1.73707694e-01, -2.59305742e-02],\n",
       "        [ 5.25222182e-01,  3.67978722e-01, -7.39012837e-01, ...,\n",
       "          2.09158152e-01,  1.69981211e-01, -2.92048082e-02],\n",
       "        [ 5.25179625e-01,  3.67894083e-01, -6.08213067e-01, ...,\n",
       "          1.86701149e-01,  1.80570781e-01, -2.97817327e-02],\n",
       "        ...,\n",
       "        [ 5.31642318e-01,  3.67775142e-01, -6.10265493e-01, ...,\n",
       "          3.04199249e-01,  1.76797792e-01, -1.56372786e-02],\n",
       "        [ 5.31626403e-01,  3.67638856e-01, -5.52531421e-01, ...,\n",
       "          3.03649753e-01,  1.75618812e-01, -1.66156739e-02],\n",
       "        [ 5.31407177e-01,  3.67226332e-01, -5.87140083e-01, ...,\n",
       "          2.76864737e-01,  1.74521804e-01, -1.93270594e-02]],\n",
       "\n",
       "       ...,\n",
       "\n",
       "       [[ 5.12725949e-01,  4.58601087e-01, -3.64822745e-01, ...,\n",
       "          5.11300683e-01,  5.21438420e-01, -3.05019636e-02],\n",
       "        [ 5.12717783e-01,  4.58523184e-01, -3.65837514e-01, ...,\n",
       "          5.11741281e-01,  5.14806211e-01, -2.65784115e-02],\n",
       "        [ 5.12723386e-01,  4.58548009e-01, -3.66883695e-01, ...,\n",
       "          5.13559461e-01,  5.14267862e-01, -2.48821322e-02],\n",
       "        ...,\n",
       "        [ 5.11924863e-01,  4.43760395e-01, -4.14441824e-01, ...,\n",
       "          0.00000000e+00,  0.00000000e+00,  0.00000000e+00],\n",
       "        [ 5.11401296e-01,  4.43154037e-01, -4.16338593e-01, ...,\n",
       "          0.00000000e+00,  0.00000000e+00,  0.00000000e+00],\n",
       "        [ 5.11418104e-01,  4.43140835e-01, -4.13715273e-01, ...,\n",
       "          0.00000000e+00,  0.00000000e+00,  0.00000000e+00]],\n",
       "\n",
       "       [[ 5.12539685e-01,  4.42128569e-01, -4.86282915e-01, ...,\n",
       "          4.99247730e-01,  6.58255756e-01, -3.78001481e-02],\n",
       "        [ 5.12658000e-01,  4.41202730e-01, -4.62810576e-01, ...,\n",
       "          0.00000000e+00,  0.00000000e+00,  0.00000000e+00],\n",
       "        [ 5.12816191e-01,  4.40321624e-01, -4.56000090e-01, ...,\n",
       "          0.00000000e+00,  0.00000000e+00,  0.00000000e+00],\n",
       "        ...,\n",
       "        [ 5.13595402e-01,  4.37039822e-01, -5.34146726e-01, ...,\n",
       "          4.39754874e-01,  6.09556973e-01,  3.08103743e-04],\n",
       "        [ 5.12957931e-01,  4.37037259e-01, -4.62669790e-01, ...,\n",
       "          4.96934742e-01,  5.79855442e-01, -3.05072647e-02],\n",
       "        [ 5.12325883e-01,  4.43813294e-01, -4.07883555e-01, ...,\n",
       "          5.02863824e-01,  5.47771633e-01, -3.61090712e-02]],\n",
       "\n",
       "       [[ 5.12862563e-01,  4.55503166e-01, -3.90589148e-01, ...,\n",
       "          5.11832833e-01,  5.20597100e-01, -2.13599522e-02],\n",
       "        [ 5.13634264e-01,  4.58665431e-01, -3.92051727e-01, ...,\n",
       "          5.13835073e-01,  5.13075769e-01, -2.43008602e-02],\n",
       "        [ 5.13919592e-01,  4.60623175e-01, -3.73836339e-01, ...,\n",
       "          5.13527453e-01,  5.13665915e-01, -2.75160298e-02],\n",
       "        ...,\n",
       "        [ 5.12551367e-01,  4.40738559e-01, -3.88212860e-01, ...,\n",
       "          4.72047806e-01,  9.22695518e-01, -4.39262278e-02],\n",
       "        [ 5.11581063e-01,  4.40006435e-01, -3.89404953e-01, ...,\n",
       "          4.71236259e-01,  9.22819018e-01, -4.48828004e-02],\n",
       "        [ 5.11572719e-01,  4.39984679e-01, -3.83719563e-01, ...,\n",
       "          4.70490485e-01,  9.25516427e-01, -5.05643822e-02]]])"
      ]
     },
     "execution_count": 34,
     "metadata": {},
     "output_type": "execute_result"
    }
   ],
   "source": [
    "X"
   ]
  },
  {
   "cell_type": "code",
   "execution_count": 35,
   "metadata": {},
   "outputs": [
    {
     "data": {
      "text/plain": [
       "[0,\n",
       " 0,\n",
       " 0,\n",
       " 0,\n",
       " 0,\n",
       " 0,\n",
       " 0,\n",
       " 0,\n",
       " 0,\n",
       " 0,\n",
       " 0,\n",
       " 0,\n",
       " 0,\n",
       " 0,\n",
       " 0,\n",
       " 0,\n",
       " 0,\n",
       " 0,\n",
       " 0,\n",
       " 0,\n",
       " 0,\n",
       " 0,\n",
       " 0,\n",
       " 0,\n",
       " 0,\n",
       " 0,\n",
       " 0,\n",
       " 0,\n",
       " 0,\n",
       " 0,\n",
       " 1,\n",
       " 1,\n",
       " 1,\n",
       " 1,\n",
       " 1,\n",
       " 1,\n",
       " 1,\n",
       " 1,\n",
       " 1,\n",
       " 1,\n",
       " 1,\n",
       " 1,\n",
       " 1,\n",
       " 1,\n",
       " 1,\n",
       " 1,\n",
       " 1,\n",
       " 1,\n",
       " 1,\n",
       " 1,\n",
       " 1,\n",
       " 1,\n",
       " 1,\n",
       " 1,\n",
       " 1,\n",
       " 1,\n",
       " 1,\n",
       " 1,\n",
       " 1,\n",
       " 1,\n",
       " 2,\n",
       " 2,\n",
       " 2,\n",
       " 2,\n",
       " 2,\n",
       " 2,\n",
       " 2,\n",
       " 2,\n",
       " 2,\n",
       " 2,\n",
       " 2,\n",
       " 2,\n",
       " 2,\n",
       " 2,\n",
       " 2,\n",
       " 2,\n",
       " 2,\n",
       " 2,\n",
       " 2,\n",
       " 2,\n",
       " 2,\n",
       " 2,\n",
       " 2,\n",
       " 2,\n",
       " 2,\n",
       " 2,\n",
       " 2,\n",
       " 2,\n",
       " 2,\n",
       " 2,\n",
       " 3,\n",
       " 3,\n",
       " 3,\n",
       " 3,\n",
       " 3,\n",
       " 3,\n",
       " 3,\n",
       " 3,\n",
       " 3,\n",
       " 3,\n",
       " 3,\n",
       " 3,\n",
       " 3,\n",
       " 3,\n",
       " 3,\n",
       " 3,\n",
       " 3,\n",
       " 3,\n",
       " 3,\n",
       " 3,\n",
       " 3,\n",
       " 3,\n",
       " 3,\n",
       " 3,\n",
       " 3,\n",
       " 3,\n",
       " 3,\n",
       " 3,\n",
       " 3,\n",
       " 3,\n",
       " 4,\n",
       " 4,\n",
       " 4,\n",
       " 4,\n",
       " 4,\n",
       " 4,\n",
       " 4,\n",
       " 4,\n",
       " 4,\n",
       " 4,\n",
       " 4,\n",
       " 4,\n",
       " 4,\n",
       " 4,\n",
       " 4,\n",
       " 4,\n",
       " 4,\n",
       " 4,\n",
       " 4,\n",
       " 4,\n",
       " 4,\n",
       " 4,\n",
       " 4,\n",
       " 4,\n",
       " 4,\n",
       " 4,\n",
       " 4,\n",
       " 4,\n",
       " 4,\n",
       " 4]"
      ]
     },
     "execution_count": 35,
     "metadata": {},
     "output_type": "execute_result"
    }
   ],
   "source": [
    "labels"
   ]
  },
  {
   "cell_type": "code",
   "execution_count": 36,
   "metadata": {},
   "outputs": [],
   "source": [
    "Y = to_categorical(labels).astype(int)"
   ]
  },
  {
   "cell_type": "code",
   "execution_count": 37,
   "metadata": {},
   "outputs": [
    {
     "data": {
      "text/plain": [
       "array([[1, 0, 0, 0, 0],\n",
       "       [1, 0, 0, 0, 0],\n",
       "       [1, 0, 0, 0, 0],\n",
       "       [1, 0, 0, 0, 0],\n",
       "       [1, 0, 0, 0, 0],\n",
       "       [1, 0, 0, 0, 0],\n",
       "       [1, 0, 0, 0, 0],\n",
       "       [1, 0, 0, 0, 0],\n",
       "       [1, 0, 0, 0, 0],\n",
       "       [1, 0, 0, 0, 0],\n",
       "       [1, 0, 0, 0, 0],\n",
       "       [1, 0, 0, 0, 0],\n",
       "       [1, 0, 0, 0, 0],\n",
       "       [1, 0, 0, 0, 0],\n",
       "       [1, 0, 0, 0, 0],\n",
       "       [1, 0, 0, 0, 0],\n",
       "       [1, 0, 0, 0, 0],\n",
       "       [1, 0, 0, 0, 0],\n",
       "       [1, 0, 0, 0, 0],\n",
       "       [1, 0, 0, 0, 0],\n",
       "       [1, 0, 0, 0, 0],\n",
       "       [1, 0, 0, 0, 0],\n",
       "       [1, 0, 0, 0, 0],\n",
       "       [1, 0, 0, 0, 0],\n",
       "       [1, 0, 0, 0, 0],\n",
       "       [1, 0, 0, 0, 0],\n",
       "       [1, 0, 0, 0, 0],\n",
       "       [1, 0, 0, 0, 0],\n",
       "       [1, 0, 0, 0, 0],\n",
       "       [1, 0, 0, 0, 0],\n",
       "       [0, 1, 0, 0, 0],\n",
       "       [0, 1, 0, 0, 0],\n",
       "       [0, 1, 0, 0, 0],\n",
       "       [0, 1, 0, 0, 0],\n",
       "       [0, 1, 0, 0, 0],\n",
       "       [0, 1, 0, 0, 0],\n",
       "       [0, 1, 0, 0, 0],\n",
       "       [0, 1, 0, 0, 0],\n",
       "       [0, 1, 0, 0, 0],\n",
       "       [0, 1, 0, 0, 0],\n",
       "       [0, 1, 0, 0, 0],\n",
       "       [0, 1, 0, 0, 0],\n",
       "       [0, 1, 0, 0, 0],\n",
       "       [0, 1, 0, 0, 0],\n",
       "       [0, 1, 0, 0, 0],\n",
       "       [0, 1, 0, 0, 0],\n",
       "       [0, 1, 0, 0, 0],\n",
       "       [0, 1, 0, 0, 0],\n",
       "       [0, 1, 0, 0, 0],\n",
       "       [0, 1, 0, 0, 0],\n",
       "       [0, 1, 0, 0, 0],\n",
       "       [0, 1, 0, 0, 0],\n",
       "       [0, 1, 0, 0, 0],\n",
       "       [0, 1, 0, 0, 0],\n",
       "       [0, 1, 0, 0, 0],\n",
       "       [0, 1, 0, 0, 0],\n",
       "       [0, 1, 0, 0, 0],\n",
       "       [0, 1, 0, 0, 0],\n",
       "       [0, 1, 0, 0, 0],\n",
       "       [0, 1, 0, 0, 0],\n",
       "       [0, 0, 1, 0, 0],\n",
       "       [0, 0, 1, 0, 0],\n",
       "       [0, 0, 1, 0, 0],\n",
       "       [0, 0, 1, 0, 0],\n",
       "       [0, 0, 1, 0, 0],\n",
       "       [0, 0, 1, 0, 0],\n",
       "       [0, 0, 1, 0, 0],\n",
       "       [0, 0, 1, 0, 0],\n",
       "       [0, 0, 1, 0, 0],\n",
       "       [0, 0, 1, 0, 0],\n",
       "       [0, 0, 1, 0, 0],\n",
       "       [0, 0, 1, 0, 0],\n",
       "       [0, 0, 1, 0, 0],\n",
       "       [0, 0, 1, 0, 0],\n",
       "       [0, 0, 1, 0, 0],\n",
       "       [0, 0, 1, 0, 0],\n",
       "       [0, 0, 1, 0, 0],\n",
       "       [0, 0, 1, 0, 0],\n",
       "       [0, 0, 1, 0, 0],\n",
       "       [0, 0, 1, 0, 0],\n",
       "       [0, 0, 1, 0, 0],\n",
       "       [0, 0, 1, 0, 0],\n",
       "       [0, 0, 1, 0, 0],\n",
       "       [0, 0, 1, 0, 0],\n",
       "       [0, 0, 1, 0, 0],\n",
       "       [0, 0, 1, 0, 0],\n",
       "       [0, 0, 1, 0, 0],\n",
       "       [0, 0, 1, 0, 0],\n",
       "       [0, 0, 1, 0, 0],\n",
       "       [0, 0, 1, 0, 0],\n",
       "       [0, 0, 0, 1, 0],\n",
       "       [0, 0, 0, 1, 0],\n",
       "       [0, 0, 0, 1, 0],\n",
       "       [0, 0, 0, 1, 0],\n",
       "       [0, 0, 0, 1, 0],\n",
       "       [0, 0, 0, 1, 0],\n",
       "       [0, 0, 0, 1, 0],\n",
       "       [0, 0, 0, 1, 0],\n",
       "       [0, 0, 0, 1, 0],\n",
       "       [0, 0, 0, 1, 0],\n",
       "       [0, 0, 0, 1, 0],\n",
       "       [0, 0, 0, 1, 0],\n",
       "       [0, 0, 0, 1, 0],\n",
       "       [0, 0, 0, 1, 0],\n",
       "       [0, 0, 0, 1, 0],\n",
       "       [0, 0, 0, 1, 0],\n",
       "       [0, 0, 0, 1, 0],\n",
       "       [0, 0, 0, 1, 0],\n",
       "       [0, 0, 0, 1, 0],\n",
       "       [0, 0, 0, 1, 0],\n",
       "       [0, 0, 0, 1, 0],\n",
       "       [0, 0, 0, 1, 0],\n",
       "       [0, 0, 0, 1, 0],\n",
       "       [0, 0, 0, 1, 0],\n",
       "       [0, 0, 0, 1, 0],\n",
       "       [0, 0, 0, 1, 0],\n",
       "       [0, 0, 0, 1, 0],\n",
       "       [0, 0, 0, 1, 0],\n",
       "       [0, 0, 0, 1, 0],\n",
       "       [0, 0, 0, 1, 0],\n",
       "       [0, 0, 0, 0, 1],\n",
       "       [0, 0, 0, 0, 1],\n",
       "       [0, 0, 0, 0, 1],\n",
       "       [0, 0, 0, 0, 1],\n",
       "       [0, 0, 0, 0, 1],\n",
       "       [0, 0, 0, 0, 1],\n",
       "       [0, 0, 0, 0, 1],\n",
       "       [0, 0, 0, 0, 1],\n",
       "       [0, 0, 0, 0, 1],\n",
       "       [0, 0, 0, 0, 1],\n",
       "       [0, 0, 0, 0, 1],\n",
       "       [0, 0, 0, 0, 1],\n",
       "       [0, 0, 0, 0, 1],\n",
       "       [0, 0, 0, 0, 1],\n",
       "       [0, 0, 0, 0, 1],\n",
       "       [0, 0, 0, 0, 1],\n",
       "       [0, 0, 0, 0, 1],\n",
       "       [0, 0, 0, 0, 1],\n",
       "       [0, 0, 0, 0, 1],\n",
       "       [0, 0, 0, 0, 1],\n",
       "       [0, 0, 0, 0, 1],\n",
       "       [0, 0, 0, 0, 1],\n",
       "       [0, 0, 0, 0, 1],\n",
       "       [0, 0, 0, 0, 1],\n",
       "       [0, 0, 0, 0, 1],\n",
       "       [0, 0, 0, 0, 1],\n",
       "       [0, 0, 0, 0, 1],\n",
       "       [0, 0, 0, 0, 1],\n",
       "       [0, 0, 0, 0, 1],\n",
       "       [0, 0, 0, 0, 1]])"
      ]
     },
     "execution_count": 37,
     "metadata": {},
     "output_type": "execute_result"
    }
   ],
   "source": [
    "Y"
   ]
  },
  {
   "cell_type": "code",
   "execution_count": 38,
   "metadata": {},
   "outputs": [],
   "source": [
    "X_train, X_test, Y_train, Y_test = train_test_split(X,Y,test_size=0.15)"
   ]
  },
  {
   "cell_type": "code",
   "execution_count": 39,
   "metadata": {},
   "outputs": [
    {
     "data": {
      "text/plain": [
       "(127, 30, 1662)"
      ]
     },
     "execution_count": 39,
     "metadata": {},
     "output_type": "execute_result"
    }
   ],
   "source": [
    "X_train.shape"
   ]
  },
  {
   "cell_type": "code",
   "execution_count": 40,
   "metadata": {},
   "outputs": [
    {
     "data": {
      "text/plain": [
       "(23, 30, 1662)"
      ]
     },
     "execution_count": 40,
     "metadata": {},
     "output_type": "execute_result"
    }
   ],
   "source": [
    "X_test.shape"
   ]
  },
  {
   "cell_type": "markdown",
   "metadata": {},
   "source": [
    "### Build & Train the Model"
   ]
  },
  {
   "cell_type": "code",
   "execution_count": 41,
   "metadata": {},
   "outputs": [],
   "source": [
    "from tensorflow.keras.models import Sequential\n",
    "from tensorflow.keras.layers import LSTM, Dense\n",
    "from tensorflow.keras.callbacks import TensorBoard "
   ]
  },
  {
   "cell_type": "code",
   "execution_count": 42,
   "metadata": {},
   "outputs": [],
   "source": [
    "log_dir = os.path.join('Logs')\n",
    "tb_callback = TensorBoard(log_dir=log_dir)"
   ]
  },
  {
   "cell_type": "code",
   "execution_count": 43,
   "metadata": {},
   "outputs": [],
   "source": [
    "model = Sequential()\n",
    "model.add(LSTM(64, return_sequences=True, activation='relu', input_shape=(30,1662)))\n",
    "model.add(LSTM(128, return_sequences=True, activation='relu'))\n",
    "model.add(LSTM(64, return_sequences=False, activation='relu'))\n",
    "model.add(Dense(64, activation='relu'))\n",
    "model.add(Dense(32, activation='relu'))\n",
    "model.add(Dense(actions.shape[0], activation='softmax'))"
   ]
  },
  {
   "cell_type": "code",
   "execution_count": 44,
   "metadata": {},
   "outputs": [],
   "source": [
    "# res = [0.1,0.85,0.05]\n",
    "    \n",
    "# actions[np.argmax(res)]"
   ]
  },
  {
   "cell_type": "code",
   "execution_count": 45,
   "metadata": {},
   "outputs": [],
   "source": [
    "model.compile(optimizer='Adam', loss='categorical_crossentropy', metrics=['categorical_accuracy'])"
   ]
  },
  {
   "cell_type": "code",
   "execution_count": 58,
   "metadata": {},
   "outputs": [
    {
     "name": "stdout",
     "output_type": "stream",
     "text": [
      "Epoch 1/200\n",
      "4/4 [==============================] - 4s 239ms/step - loss: 20.0611 - categorical_accuracy: 0.2058\n",
      "Epoch 2/200\n",
      "4/4 [==============================] - 0s 75ms/step - loss: 1.6995 - categorical_accuracy: 0.2759\n",
      "Epoch 3/200\n",
      "4/4 [==============================] - 0s 78ms/step - loss: 2.3812 - categorical_accuracy: 0.2331\n",
      "Epoch 4/200\n",
      "4/4 [==============================] - 0s 76ms/step - loss: 1.9866 - categorical_accuracy: 0.1589\n",
      "Epoch 5/200\n",
      "4/4 [==============================] - 0s 75ms/step - loss: 1.6442 - categorical_accuracy: 0.1809\n",
      "Epoch 6/200\n",
      "4/4 [==============================] - 0s 75ms/step - loss: 1.5498 - categorical_accuracy: 0.2143\n",
      "Epoch 7/200\n",
      "4/4 [==============================] - 0s 78ms/step - loss: 1.4452 - categorical_accuracy: 0.3677\n",
      "Epoch 8/200\n",
      "4/4 [==============================] - 0s 80ms/step - loss: 1.3809 - categorical_accuracy: 0.4336\n",
      "Epoch 9/200\n",
      "4/4 [==============================] - 0s 82ms/step - loss: 1.2363 - categorical_accuracy: 0.4650\n",
      "Epoch 10/200\n",
      "4/4 [==============================] - 0s 76ms/step - loss: 1.3163 - categorical_accuracy: 0.4024\n",
      "Epoch 11/200\n",
      "4/4 [==============================] - 0s 74ms/step - loss: 1.2345 - categorical_accuracy: 0.4692\n",
      "Epoch 12/200\n",
      "4/4 [==============================] - 0s 81ms/step - loss: 1.1453 - categorical_accuracy: 0.5121\n",
      "Epoch 13/200\n",
      "4/4 [==============================] - 0s 75ms/step - loss: 1.0177 - categorical_accuracy: 0.6354\n",
      "Epoch 14/200\n",
      "4/4 [==============================] - 0s 79ms/step - loss: 2.2461 - categorical_accuracy: 0.3248\n",
      "Epoch 15/200\n",
      "4/4 [==============================] - 0s 80ms/step - loss: 2.0793 - categorical_accuracy: 0.2727\n",
      "Epoch 16/200\n",
      "4/4 [==============================] - 0s 77ms/step - loss: 1.5742 - categorical_accuracy: 0.2508\n",
      "Epoch 17/200\n",
      "4/4 [==============================] - 0s 80ms/step - loss: 1.5644 - categorical_accuracy: 0.2603\n",
      "Epoch 18/200\n",
      "4/4 [==============================] - 0s 81ms/step - loss: 1.3875 - categorical_accuracy: 0.4296\n",
      "Epoch 19/200\n",
      "4/4 [==============================] - 0s 82ms/step - loss: 1.5263 - categorical_accuracy: 0.4095\n",
      "Epoch 20/200\n",
      "4/4 [==============================] - 0s 76ms/step - loss: 1.4850 - categorical_accuracy: 0.3031\n",
      "Epoch 21/200\n",
      "4/4 [==============================] - 0s 81ms/step - loss: 1.4060 - categorical_accuracy: 0.4046\n",
      "Epoch 22/200\n",
      "4/4 [==============================] - 0s 81ms/step - loss: 1.1779 - categorical_accuracy: 0.5319\n",
      "Epoch 23/200\n",
      "4/4 [==============================] - 0s 78ms/step - loss: 0.9742 - categorical_accuracy: 0.5822\n",
      "Epoch 24/200\n",
      "4/4 [==============================] - 0s 76ms/step - loss: 1.2886 - categorical_accuracy: 0.5820\n",
      "Epoch 25/200\n",
      "4/4 [==============================] - 0s 82ms/step - loss: 1.2262 - categorical_accuracy: 0.6018\n",
      "Epoch 26/200\n",
      "4/4 [==============================] - 0s 80ms/step - loss: 1.5010 - categorical_accuracy: 0.3898\n",
      "Epoch 27/200\n",
      "4/4 [==============================] - 0s 86ms/step - loss: 1.6161 - categorical_accuracy: 0.2572\n",
      "Epoch 28/200\n",
      "4/4 [==============================] - 0s 81ms/step - loss: 1.5300 - categorical_accuracy: 0.3698\n",
      "Epoch 29/200\n",
      "4/4 [==============================] - 0s 81ms/step - loss: 1.4668 - categorical_accuracy: 0.3616\n",
      "Epoch 30/200\n",
      "4/4 [==============================] - 0s 80ms/step - loss: 1.4078 - categorical_accuracy: 0.3783\n",
      "Epoch 31/200\n",
      "4/4 [==============================] - 0s 76ms/step - loss: 1.3781 - categorical_accuracy: 0.4984\n",
      "Epoch 32/200\n",
      "4/4 [==============================] - 0s 76ms/step - loss: 1.2382 - categorical_accuracy: 0.6613\n",
      "Epoch 33/200\n",
      "4/4 [==============================] - 0s 80ms/step - loss: 1.1748 - categorical_accuracy: 0.5956\n",
      "Epoch 34/200\n",
      "4/4 [==============================] - 0s 81ms/step - loss: 1.0067 - categorical_accuracy: 0.6114\n",
      "Epoch 35/200\n",
      "4/4 [==============================] - 0s 81ms/step - loss: 0.9243 - categorical_accuracy: 0.6476\n",
      "Epoch 36/200\n",
      "4/4 [==============================] - 0s 73ms/step - loss: 1.6907 - categorical_accuracy: 0.3252\n",
      "Epoch 37/200\n",
      "4/4 [==============================] - 0s 79ms/step - loss: 1.3629 - categorical_accuracy: 0.4431\n",
      "Epoch 38/200\n",
      "4/4 [==============================] - 0s 76ms/step - loss: 1.1398 - categorical_accuracy: 0.4671\n",
      "Epoch 39/200\n",
      "4/4 [==============================] - 0s 76ms/step - loss: 1.1635 - categorical_accuracy: 0.6039\n",
      "Epoch 40/200\n",
      "4/4 [==============================] - 0s 76ms/step - loss: 1.1486 - categorical_accuracy: 0.4777\n",
      "Epoch 41/200\n",
      "4/4 [==============================] - 0s 79ms/step - loss: 1.0275 - categorical_accuracy: 0.6123\n",
      "Epoch 42/200\n",
      "4/4 [==============================] - 0s 81ms/step - loss: 0.9768 - categorical_accuracy: 0.5946\n",
      "Epoch 43/200\n",
      "4/4 [==============================] - 0s 82ms/step - loss: 0.9180 - categorical_accuracy: 0.6365\n",
      "Epoch 44/200\n",
      "4/4 [==============================] - 0s 75ms/step - loss: 0.7417 - categorical_accuracy: 0.7263\n",
      "Epoch 45/200\n",
      "4/4 [==============================] - 0s 81ms/step - loss: 0.6644 - categorical_accuracy: 0.7305\n",
      "Epoch 46/200\n",
      "4/4 [==============================] - 0s 80ms/step - loss: 0.5521 - categorical_accuracy: 0.7638\n",
      "Epoch 47/200\n",
      "4/4 [==============================] - 0s 80ms/step - loss: 0.4530 - categorical_accuracy: 0.8118\n",
      "Epoch 48/200\n",
      "4/4 [==============================] - 0s 82ms/step - loss: 0.6359 - categorical_accuracy: 0.7199\n",
      "Epoch 49/200\n",
      "4/4 [==============================] - 0s 80ms/step - loss: 1.3218 - categorical_accuracy: 0.5911\n",
      "Epoch 50/200\n",
      "4/4 [==============================] - 0s 83ms/step - loss: 2.0509 - categorical_accuracy: 0.3251\n",
      "Epoch 51/200\n",
      "4/4 [==============================] - 0s 80ms/step - loss: 1.1951 - categorical_accuracy: 0.6249\n",
      "Epoch 52/200\n",
      "4/4 [==============================] - 0s 80ms/step - loss: 0.8524 - categorical_accuracy: 0.6363\n",
      "Epoch 53/200\n",
      "4/4 [==============================] - 0s 82ms/step - loss: 0.6187 - categorical_accuracy: 0.7659\n",
      "Epoch 54/200\n",
      "4/4 [==============================] - 0s 81ms/step - loss: 0.6347 - categorical_accuracy: 0.7597\n",
      "Epoch 55/200\n",
      "4/4 [==============================] - 0s 79ms/step - loss: 0.5073 - categorical_accuracy: 0.8171\n",
      "Epoch 56/200\n",
      "4/4 [==============================] - 0s 78ms/step - loss: 0.5335 - categorical_accuracy: 0.8580\n",
      "Epoch 57/200\n",
      "4/4 [==============================] - 0s 79ms/step - loss: 0.3703 - categorical_accuracy: 0.8870\n",
      "Epoch 58/200\n",
      "4/4 [==============================] - 0s 79ms/step - loss: 0.4649 - categorical_accuracy: 0.8327\n",
      "Epoch 59/200\n",
      "4/4 [==============================] - 0s 79ms/step - loss: 2.3384 - categorical_accuracy: 0.5513\n",
      "Epoch 60/200\n",
      "4/4 [==============================] - 0s 79ms/step - loss: 2.7760 - categorical_accuracy: 0.2090\n",
      "Epoch 61/200\n",
      "4/4 [==============================] - 0s 79ms/step - loss: 2.7294 - categorical_accuracy: 0.2770\n",
      "Epoch 62/200\n",
      "4/4 [==============================] - 0s 79ms/step - loss: 1.6066 - categorical_accuracy: 0.2644\n",
      "Epoch 63/200\n",
      "4/4 [==============================] - 0s 75ms/step - loss: 1.2395 - categorical_accuracy: 0.4922\n",
      "Epoch 64/200\n",
      "4/4 [==============================] - 0s 79ms/step - loss: 1.2247 - categorical_accuracy: 0.6008\n",
      "Epoch 65/200\n",
      "4/4 [==============================] - 0s 79ms/step - loss: 1.0059 - categorical_accuracy: 0.5829\n",
      "Epoch 66/200\n",
      "4/4 [==============================] - 0s 76ms/step - loss: 1.3938 - categorical_accuracy: 0.3636\n",
      "Epoch 67/200\n",
      "4/4 [==============================] - 0s 79ms/step - loss: 0.9389 - categorical_accuracy: 0.6000\n",
      "Epoch 68/200\n",
      "4/4 [==============================] - 0s 81ms/step - loss: 0.7731 - categorical_accuracy: 0.7220\n",
      "Epoch 69/200\n",
      "4/4 [==============================] - 0s 75ms/step - loss: 1.0379 - categorical_accuracy: 0.6436\n",
      "Epoch 70/200\n",
      "4/4 [==============================] - 0s 76ms/step - loss: 0.8723 - categorical_accuracy: 0.6834\n",
      "Epoch 71/200\n",
      "4/4 [==============================] - 0s 78ms/step - loss: 0.7383 - categorical_accuracy: 0.6790\n",
      "Epoch 72/200\n",
      "4/4 [==============================] - 0s 79ms/step - loss: 0.7030 - categorical_accuracy: 0.7460\n",
      "Epoch 73/200\n",
      "4/4 [==============================] - 0s 78ms/step - loss: 0.5548 - categorical_accuracy: 0.7827\n",
      "Epoch 74/200\n"
     ]
    },
    {
     "name": "stdout",
     "output_type": "stream",
     "text": [
      "4/4 [==============================] - 0s 79ms/step - loss: 0.3468 - categorical_accuracy: 0.8213\n",
      "Epoch 75/200\n",
      "4/4 [==============================] - 0s 72ms/step - loss: 0.3932 - categorical_accuracy: 0.8120\n",
      "Epoch 76/200\n",
      "4/4 [==============================] - 0s 76ms/step - loss: 0.4827 - categorical_accuracy: 0.8130\n",
      "Epoch 77/200\n",
      "4/4 [==============================] - 0s 76ms/step - loss: 0.3584 - categorical_accuracy: 0.8464\n",
      "Epoch 78/200\n",
      "4/4 [==============================] - 0s 73ms/step - loss: 1.1537 - categorical_accuracy: 0.6456\n",
      "Epoch 79/200\n",
      "4/4 [==============================] - 0s 73ms/step - loss: 2.3010 - categorical_accuracy: 0.3837\n",
      "Epoch 80/200\n",
      "4/4 [==============================] - 0s 74ms/step - loss: 1.1284 - categorical_accuracy: 0.4683\n",
      "Epoch 81/200\n",
      "4/4 [==============================] - 0s 74ms/step - loss: 0.9402 - categorical_accuracy: 0.6165\n",
      "Epoch 82/200\n",
      "4/4 [==============================] - 0s 78ms/step - loss: 0.8974 - categorical_accuracy: 0.6541\n",
      "Epoch 83/200\n",
      "4/4 [==============================] - 0s 75ms/step - loss: 0.6728 - categorical_accuracy: 0.7126\n",
      "Epoch 84/200\n",
      "4/4 [==============================] - 0s 76ms/step - loss: 0.5345 - categorical_accuracy: 0.9018\n",
      "Epoch 85/200\n",
      "4/4 [==============================] - 0s 75ms/step - loss: 0.8094 - categorical_accuracy: 0.8386\n",
      "Epoch 86/200\n",
      "4/4 [==============================] - 0s 75ms/step - loss: 1.6853 - categorical_accuracy: 0.3448\n",
      "Epoch 87/200\n",
      "4/4 [==============================] - 0s 75ms/step - loss: 1.5335 - categorical_accuracy: 0.2257\n",
      "Epoch 88/200\n",
      "4/4 [==============================] - 0s 76ms/step - loss: 1.5138 - categorical_accuracy: 0.4274\n",
      "Epoch 89/200\n",
      "4/4 [==============================] - 0s 73ms/step - loss: 1.5086 - categorical_accuracy: 0.3094\n",
      "Epoch 90/200\n",
      "4/4 [==============================] - 0s 74ms/step - loss: 1.3709 - categorical_accuracy: 0.4472\n",
      "Epoch 91/200\n",
      "4/4 [==============================] - 0s 74ms/step - loss: 1.2712 - categorical_accuracy: 0.4536\n",
      "Epoch 92/200\n",
      "4/4 [==============================] - 0s 76ms/step - loss: 1.2263 - categorical_accuracy: 0.5339\n",
      "Epoch 93/200\n",
      "4/4 [==============================] - 0s 76ms/step - loss: 1.1238 - categorical_accuracy: 0.5527\n",
      "Epoch 94/200\n",
      "4/4 [==============================] - 0s 73ms/step - loss: 1.0877 - categorical_accuracy: 0.4933\n",
      "Epoch 95/200\n",
      "4/4 [==============================] - 0s 76ms/step - loss: 0.9936 - categorical_accuracy: 0.6583\n",
      "Epoch 96/200\n",
      "4/4 [==============================] - 0s 73ms/step - loss: 0.9369 - categorical_accuracy: 0.6834\n",
      "Epoch 97/200\n",
      "4/4 [==============================] - 0s 74ms/step - loss: 0.7937 - categorical_accuracy: 0.7230\n",
      "Epoch 98/200\n",
      "4/4 [==============================] - 0s 76ms/step - loss: 0.7029 - categorical_accuracy: 0.7168\n",
      "Epoch 99/200\n",
      "4/4 [==============================] - 0s 74ms/step - loss: 0.7077 - categorical_accuracy: 0.7125\n",
      "Epoch 100/200\n",
      "4/4 [==============================] - 0s 74ms/step - loss: 0.7690 - categorical_accuracy: 0.6468\n",
      "Epoch 101/200\n",
      "4/4 [==============================] - 0s 77ms/step - loss: 0.6590 - categorical_accuracy: 0.7430\n",
      "Epoch 102/200\n",
      "4/4 [==============================] - 0s 77ms/step - loss: 0.6017 - categorical_accuracy: 0.7984\n",
      "Epoch 103/200\n",
      "4/4 [==============================] - 0s 75ms/step - loss: 0.5079 - categorical_accuracy: 0.8819\n",
      "Epoch 104/200\n",
      "4/4 [==============================] - 0s 78ms/step - loss: 0.3664 - categorical_accuracy: 0.8860\n",
      "Epoch 105/200\n",
      "4/4 [==============================] - 0s 76ms/step - loss: 0.4274 - categorical_accuracy: 0.8662\n",
      "Epoch 106/200\n",
      "4/4 [==============================] - 0s 78ms/step - loss: 0.4029 - categorical_accuracy: 0.8610\n",
      "Epoch 107/200\n",
      "4/4 [==============================] - 0s 74ms/step - loss: 0.3382 - categorical_accuracy: 0.8913\n",
      "Epoch 108/200\n",
      "4/4 [==============================] - 0s 75ms/step - loss: 0.2808 - categorical_accuracy: 0.8986\n",
      "Epoch 109/200\n",
      "4/4 [==============================] - 0s 73ms/step - loss: 0.2246 - categorical_accuracy: 0.9205\n",
      "Epoch 110/200\n",
      "4/4 [==============================] - 0s 76ms/step - loss: 0.2247 - categorical_accuracy: 0.8955\n",
      "Epoch 111/200\n",
      "4/4 [==============================] - 0s 74ms/step - loss: 0.2325 - categorical_accuracy: 0.9038\n",
      "Epoch 112/200\n",
      "4/4 [==============================] - 0s 77ms/step - loss: 0.2427 - categorical_accuracy: 0.9216\n",
      "Epoch 113/200\n",
      "4/4 [==============================] - 0s 75ms/step - loss: 0.8076 - categorical_accuracy: 0.6940\n",
      "Epoch 114/200\n",
      "4/4 [==============================] - 0s 76ms/step - loss: 0.3945 - categorical_accuracy: 0.8578\n",
      "Epoch 115/200\n",
      "4/4 [==============================] - 0s 74ms/step - loss: 0.3109 - categorical_accuracy: 0.8871\n",
      "Epoch 116/200\n",
      "4/4 [==============================] - 0s 73ms/step - loss: 0.2671 - categorical_accuracy: 0.8975\n",
      "Epoch 117/200\n",
      "4/4 [==============================] - 0s 73ms/step - loss: 0.2958 - categorical_accuracy: 0.9216\n",
      "Epoch 118/200\n",
      "4/4 [==============================] - 0s 75ms/step - loss: 0.2564 - categorical_accuracy: 0.9238\n",
      "Epoch 119/200\n",
      "4/4 [==============================] - 0s 75ms/step - loss: 0.2535 - categorical_accuracy: 0.9332\n",
      "Epoch 120/200\n",
      "4/4 [==============================] - 0s 75ms/step - loss: 0.1716 - categorical_accuracy: 0.9351\n",
      "Epoch 121/200\n",
      "4/4 [==============================] - 0s 75ms/step - loss: 0.1698 - categorical_accuracy: 0.9603\n",
      "Epoch 122/200\n",
      "4/4 [==============================] - 0s 78ms/step - loss: 0.1659 - categorical_accuracy: 0.9363\n",
      "Epoch 123/200\n",
      "4/4 [==============================] - 0s 77ms/step - loss: 0.1304 - categorical_accuracy: 0.9383\n",
      "Epoch 124/200\n",
      "4/4 [==============================] - 0s 72ms/step - loss: 0.1281 - categorical_accuracy: 0.9457\n",
      "Epoch 125/200\n",
      "4/4 [==============================] - 0s 76ms/step - loss: 0.0997 - categorical_accuracy: 0.9665\n",
      "Epoch 126/200\n",
      "4/4 [==============================] - 0s 77ms/step - loss: 0.1226 - categorical_accuracy: 0.9321\n",
      "Epoch 127/200\n",
      "4/4 [==============================] - 0s 76ms/step - loss: 0.0786 - categorical_accuracy: 0.9812\n",
      "Epoch 128/200\n",
      "4/4 [==============================] - 0s 76ms/step - loss: 0.1337 - categorical_accuracy: 0.9582\n",
      "Epoch 129/200\n",
      "4/4 [==============================] - 0s 75ms/step - loss: 0.1705 - categorical_accuracy: 0.9311\n",
      "Epoch 130/200\n",
      "4/4 [==============================] - 0s 77ms/step - loss: 0.0708 - categorical_accuracy: 0.9780\n",
      "Epoch 131/200\n",
      "4/4 [==============================] - 0s 76ms/step - loss: 0.1006 - categorical_accuracy: 0.9519\n",
      "Epoch 132/200\n",
      "4/4 [==============================] - 0s 75ms/step - loss: 0.0847 - categorical_accuracy: 0.9634\n",
      "Epoch 133/200\n",
      "4/4 [==============================] - 0s 76ms/step - loss: 0.0668 - categorical_accuracy: 0.9728\n",
      "Epoch 134/200\n",
      "4/4 [==============================] - 0s 76ms/step - loss: 0.0653 - categorical_accuracy: 0.9739\n",
      "Epoch 135/200\n",
      "4/4 [==============================] - 0s 77ms/step - loss: 0.0459 - categorical_accuracy: 0.9948\n",
      "Epoch 136/200\n",
      "4/4 [==============================] - 0s 77ms/step - loss: 0.0665 - categorical_accuracy: 0.9562\n",
      "Epoch 137/200\n",
      "4/4 [==============================] - 0s 75ms/step - loss: 0.0369 - categorical_accuracy: 0.9948\n",
      "Epoch 138/200\n",
      "4/4 [==============================] - 0s 76ms/step - loss: 0.0327 - categorical_accuracy: 1.0000\n",
      "Epoch 139/200\n",
      "4/4 [==============================] - 0s 79ms/step - loss: 0.0547 - categorical_accuracy: 0.9916\n",
      "Epoch 140/200\n",
      "4/4 [==============================] - 0s 76ms/step - loss: 0.1249 - categorical_accuracy: 0.9571\n",
      "Epoch 141/200\n",
      "4/4 [==============================] - 0s 76ms/step - loss: 0.3190 - categorical_accuracy: 0.8517\n",
      "Epoch 142/200\n",
      "4/4 [==============================] - 0s 75ms/step - loss: 0.2547 - categorical_accuracy: 0.9331\n",
      "Epoch 143/200\n",
      "4/4 [==============================] - 0s 77ms/step - loss: 0.1764 - categorical_accuracy: 0.9330\n",
      "Epoch 144/200\n",
      "4/4 [==============================] - 0s 77ms/step - loss: 1.3285 - categorical_accuracy: 0.5746\n",
      "Epoch 145/200\n",
      "4/4 [==============================] - 0s 76ms/step - loss: 0.8239 - categorical_accuracy: 0.6896\n",
      "Epoch 146/200\n",
      "4/4 [==============================] - 0s 76ms/step - loss: 0.6193 - categorical_accuracy: 0.8318\n",
      "Epoch 147/200\n"
     ]
    },
    {
     "name": "stdout",
     "output_type": "stream",
     "text": [
      "4/4 [==============================] - 0s 78ms/step - loss: 0.3785 - categorical_accuracy: 0.9268\n",
      "Epoch 148/200\n",
      "4/4 [==============================] - 0s 84ms/step - loss: 0.3895 - categorical_accuracy: 0.8736\n",
      "Epoch 149/200\n",
      "4/4 [==============================] - 0s 73ms/step - loss: 0.2956 - categorical_accuracy: 0.8547\n",
      "Epoch 150/200\n",
      "4/4 [==============================] - 0s 74ms/step - loss: 0.2872 - categorical_accuracy: 0.8799\n",
      "Epoch 151/200\n",
      "4/4 [==============================] - 0s 77ms/step - loss: 0.2439 - categorical_accuracy: 0.8997\n",
      "Epoch 152/200\n",
      "4/4 [==============================] - 0s 73ms/step - loss: 0.1467 - categorical_accuracy: 0.9592\n",
      "Epoch 153/200\n",
      "4/4 [==============================] - 0s 75ms/step - loss: 0.1811 - categorical_accuracy: 0.9279\n",
      "Epoch 154/200\n",
      "4/4 [==============================] - 0s 73ms/step - loss: 0.1592 - categorical_accuracy: 0.9373\n",
      "Epoch 155/200\n",
      "4/4 [==============================] - 0s 89ms/step - loss: 0.1735 - categorical_accuracy: 0.9415\n",
      "Epoch 156/200\n",
      "4/4 [==============================] - 0s 75ms/step - loss: 0.1214 - categorical_accuracy: 0.9655\n",
      "Epoch 157/200\n",
      "4/4 [==============================] - 0s 80ms/step - loss: 0.0918 - categorical_accuracy: 0.9739\n",
      "Epoch 158/200\n",
      "4/4 [==============================] - 0s 76ms/step - loss: 0.0674 - categorical_accuracy: 0.9969\n",
      "Epoch 159/200\n",
      "4/4 [==============================] - 0s 76ms/step - loss: 0.0521 - categorical_accuracy: 0.9916\n",
      "Epoch 160/200\n",
      "4/4 [==============================] - 0s 75ms/step - loss: 0.0433 - categorical_accuracy: 0.9948\n",
      "Epoch 161/200\n",
      "4/4 [==============================] - 0s 72ms/step - loss: 0.0450 - categorical_accuracy: 0.9948\n",
      "Epoch 162/200\n",
      "4/4 [==============================] - 0s 78ms/step - loss: 0.0300 - categorical_accuracy: 0.9948\n",
      "Epoch 163/200\n",
      "4/4 [==============================] - 0s 77ms/step - loss: 0.0386 - categorical_accuracy: 0.9916\n",
      "Epoch 164/200\n",
      "4/4 [==============================] - 0s 76ms/step - loss: 0.0303 - categorical_accuracy: 0.9916\n",
      "Epoch 165/200\n",
      "4/4 [==============================] - 0s 78ms/step - loss: 0.0249 - categorical_accuracy: 0.9916\n",
      "Epoch 166/200\n",
      "4/4 [==============================] - 0s 73ms/step - loss: 0.0210 - categorical_accuracy: 0.9948\n",
      "Epoch 167/200\n",
      "4/4 [==============================] - 0s 73ms/step - loss: 0.0190 - categorical_accuracy: 0.9948\n",
      "Epoch 168/200\n",
      "4/4 [==============================] - 0s 77ms/step - loss: 0.0140 - categorical_accuracy: 0.9948\n",
      "Epoch 169/200\n",
      "4/4 [==============================] - 0s 74ms/step - loss: 0.0136 - categorical_accuracy: 0.9948\n",
      "Epoch 170/200\n",
      "4/4 [==============================] - 0s 74ms/step - loss: 0.0286 - categorical_accuracy: 0.9854\n",
      "Epoch 171/200\n",
      "4/4 [==============================] - 0s 72ms/step - loss: 0.0231 - categorical_accuracy: 0.9854\n",
      "Epoch 172/200\n",
      "4/4 [==============================] - 0s 76ms/step - loss: 0.0139 - categorical_accuracy: 0.9948\n",
      "Epoch 173/200\n",
      "4/4 [==============================] - 0s 72ms/step - loss: 0.0100 - categorical_accuracy: 0.9948\n",
      "Epoch 174/200\n",
      "4/4 [==============================] - 0s 76ms/step - loss: 0.0204 - categorical_accuracy: 0.9854\n",
      "Epoch 175/200\n",
      "4/4 [==============================] - 0s 75ms/step - loss: 0.0096 - categorical_accuracy: 1.0000\n",
      "Epoch 176/200\n",
      "4/4 [==============================] - 0s 76ms/step - loss: 0.0126 - categorical_accuracy: 1.0000\n",
      "Epoch 177/200\n",
      "4/4 [==============================] - 0s 77ms/step - loss: 0.0064 - categorical_accuracy: 1.0000\n",
      "Epoch 178/200\n",
      "4/4 [==============================] - 0s 75ms/step - loss: 0.0167 - categorical_accuracy: 1.0000\n",
      "Epoch 179/200\n",
      "4/4 [==============================] - 0s 76ms/step - loss: 0.0162 - categorical_accuracy: 1.0000\n",
      "Epoch 180/200\n",
      "4/4 [==============================] - 0s 76ms/step - loss: 0.0094 - categorical_accuracy: 1.0000\n",
      "Epoch 181/200\n",
      "4/4 [==============================] - 0s 74ms/step - loss: 0.0072 - categorical_accuracy: 1.0000\n",
      "Epoch 182/200\n",
      "4/4 [==============================] - 0s 75ms/step - loss: 0.0094 - categorical_accuracy: 1.0000\n",
      "Epoch 183/200\n",
      "4/4 [==============================] - 0s 75ms/step - loss: 0.0084 - categorical_accuracy: 1.0000\n",
      "Epoch 184/200\n",
      "4/4 [==============================] - 0s 72ms/step - loss: 0.0091 - categorical_accuracy: 1.0000\n",
      "Epoch 185/200\n",
      "4/4 [==============================] - 0s 77ms/step - loss: 0.0133 - categorical_accuracy: 1.0000\n",
      "Epoch 186/200\n",
      "4/4 [==============================] - 0s 76ms/step - loss: 0.0063 - categorical_accuracy: 1.0000\n",
      "Epoch 187/200\n",
      "4/4 [==============================] - 0s 77ms/step - loss: 0.0037 - categorical_accuracy: 1.0000\n",
      "Epoch 188/200\n",
      "4/4 [==============================] - 0s 75ms/step - loss: 0.0039 - categorical_accuracy: 1.0000\n",
      "Epoch 189/200\n",
      "4/4 [==============================] - 0s 75ms/step - loss: 0.0053 - categorical_accuracy: 1.0000\n",
      "Epoch 190/200\n",
      "4/4 [==============================] - 0s 76ms/step - loss: 0.0054 - categorical_accuracy: 1.0000\n",
      "Epoch 191/200\n",
      "4/4 [==============================] - 0s 77ms/step - loss: 0.0107 - categorical_accuracy: 1.0000\n",
      "Epoch 192/200\n",
      "4/4 [==============================] - 0s 76ms/step - loss: 0.0049 - categorical_accuracy: 1.0000\n",
      "Epoch 193/200\n",
      "4/4 [==============================] - 0s 77ms/step - loss: 0.0036 - categorical_accuracy: 1.0000\n",
      "Epoch 194/200\n",
      "4/4 [==============================] - 0s 74ms/step - loss: 0.0111 - categorical_accuracy: 1.0000\n",
      "Epoch 195/200\n",
      "4/4 [==============================] - 0s 75ms/step - loss: 0.0040 - categorical_accuracy: 1.0000\n",
      "Epoch 196/200\n",
      "4/4 [==============================] - 0s 73ms/step - loss: 0.0043 - categorical_accuracy: 1.0000\n",
      "Epoch 197/200\n",
      "4/4 [==============================] - 0s 77ms/step - loss: 0.0045 - categorical_accuracy: 1.0000\n",
      "Epoch 198/200\n",
      "4/4 [==============================] - 0s 75ms/step - loss: 0.0091 - categorical_accuracy: 1.0000\n",
      "Epoch 199/200\n",
      "4/4 [==============================] - 0s 75ms/step - loss: 0.0036 - categorical_accuracy: 1.0000\n",
      "Epoch 200/200\n",
      "4/4 [==============================] - 0s 73ms/step - loss: 0.0092 - categorical_accuracy: 1.0000\n"
     ]
    },
    {
     "data": {
      "text/plain": [
       "<tensorflow.python.keras.callbacks.History at 0x7f67859f7450>"
      ]
     },
     "execution_count": 58,
     "metadata": {},
     "output_type": "execute_result"
    }
   ],
   "source": [
    "model.fit(X_train, Y_train, epochs=200, callbacks=[tb_callback])"
   ]
  },
  {
   "cell_type": "code",
   "execution_count": 46,
   "metadata": {},
   "outputs": [],
   "source": [
    "# model.save('ISL.h5')\n",
    "\n",
    "model.load_weights('ISL.h5')"
   ]
  },
  {
   "cell_type": "code",
   "execution_count": 47,
   "metadata": {},
   "outputs": [
    {
     "name": "stdout",
     "output_type": "stream",
     "text": [
      "Model: \"sequential\"\n",
      "_________________________________________________________________\n",
      "Layer (type)                 Output Shape              Param #   \n",
      "=================================================================\n",
      "lstm (LSTM)                  (None, 30, 64)            442112    \n",
      "_________________________________________________________________\n",
      "lstm_1 (LSTM)                (None, 30, 128)           98816     \n",
      "_________________________________________________________________\n",
      "lstm_2 (LSTM)                (None, 64)                49408     \n",
      "_________________________________________________________________\n",
      "dense (Dense)                (None, 64)                4160      \n",
      "_________________________________________________________________\n",
      "dense_1 (Dense)              (None, 32)                2080      \n",
      "_________________________________________________________________\n",
      "dense_2 (Dense)              (None, 5)                 165       \n",
      "=================================================================\n",
      "Total params: 596,741\n",
      "Trainable params: 596,741\n",
      "Non-trainable params: 0\n",
      "_________________________________________________________________\n"
     ]
    }
   ],
   "source": [
    "model.summary()"
   ]
  },
  {
   "cell_type": "markdown",
   "metadata": {},
   "source": [
    "### Make Predictions"
   ]
  },
  {
   "cell_type": "code",
   "execution_count": 48,
   "metadata": {},
   "outputs": [
    {
     "name": "stdout",
     "output_type": "stream",
     "text": [
      "[[4.45819205e-05 1.41119457e-07 1.20577533e-06 9.99953866e-01\n",
      "  2.13237499e-07]\n",
      " [2.34853029e-02 2.82322744e-05 4.66303682e-05 9.76426601e-01\n",
      "  1.33181256e-05]\n",
      " [9.98668313e-01 2.86258853e-07 2.61540670e-04 8.67369235e-05\n",
      "  9.83158592e-04]\n",
      " [1.41428450e-06 1.42954958e-15 5.84635118e-12 1.51200581e-08\n",
      "  9.99998569e-01]\n",
      " [1.05026383e-02 2.91991792e-10 9.89489615e-01 1.18834507e-07\n",
      "  7.60841158e-06]\n",
      " [9.99966860e-01 3.16805171e-07 2.92825916e-05 1.45400307e-07\n",
      "  3.29385830e-06]\n",
      " [9.26513508e-07 9.99998927e-01 9.64231788e-08 5.08090245e-08\n",
      "  9.76267067e-10]\n",
      " [1.23799015e-02 4.50490843e-05 2.69929995e-04 9.87225115e-01\n",
      "  8.00128255e-05]\n",
      " [8.32589890e-08 9.99999881e-01 3.49273925e-08 1.40722420e-08\n",
      "  6.45918929e-10]\n",
      " [8.72660254e-04 7.12184772e-07 6.69234396e-06 9.99118865e-01\n",
      "  1.04151127e-06]\n",
      " [1.14615803e-04 1.41319085e-13 9.99882817e-01 1.51081744e-10\n",
      "  2.44739272e-06]\n",
      " [1.96153036e-04 2.76813275e-08 1.41253417e-06 9.99801695e-01\n",
      "  6.95197059e-07]\n",
      " [6.49327005e-04 5.94732057e-07 7.24637039e-06 9.99340951e-01\n",
      "  1.96223891e-06]\n",
      " [7.14656892e-07 1.92474960e-15 4.59282352e-12 1.79971860e-08\n",
      "  9.99999285e-01]\n",
      " [2.39687233e-05 3.71273514e-14 5.99940209e-10 1.00722339e-07\n",
      "  9.99975920e-01]\n",
      " [6.87687407e-06 9.99992251e-01 3.44799247e-07 4.28882117e-07\n",
      "  6.04128969e-09]\n",
      " [9.12195264e-06 1.14864495e-14 3.81163906e-10 1.21717051e-07\n",
      "  9.99990702e-01]\n",
      " [8.15941121e-07 5.61107909e-13 5.45062384e-10 3.36583881e-08\n",
      "  9.99999166e-01]\n",
      " [2.32331644e-07 3.20454190e-16 1.12550746e-12 1.03859810e-08\n",
      "  9.99999762e-01]\n",
      " [3.64290863e-05 9.99949813e-01 6.56199006e-07 1.30296876e-05\n",
      "  1.79315354e-08]\n",
      " [3.51813583e-06 9.99995947e-01 2.48127975e-07 2.07081158e-07\n",
      "  3.96579170e-09]\n",
      " [2.74252329e-06 9.99997020e-01 1.57852170e-07 1.47014603e-07\n",
      "  1.98440286e-09]\n",
      " [1.48105057e-04 2.22528918e-13 9.99848485e-01 2.21075644e-10\n",
      "  3.34400261e-06]]\n"
     ]
    }
   ],
   "source": [
    "results = model.predict(X_test)\n",
    "\n",
    "print(results)"
   ]
  },
  {
   "cell_type": "code",
   "execution_count": 49,
   "metadata": {},
   "outputs": [
    {
     "name": "stdout",
     "output_type": "stream",
     "text": [
      "namaste\n",
      "namaste\n",
      "bye\n",
      "thankyou\n",
      "hello\n",
      "bye\n",
      "goodmorning\n",
      "namaste\n",
      "goodmorning\n",
      "namaste\n",
      "hello\n",
      "namaste\n",
      "namaste\n",
      "thankyou\n",
      "thankyou\n",
      "goodmorning\n",
      "thankyou\n",
      "thankyou\n",
      "thankyou\n",
      "goodmorning\n",
      "goodmorning\n",
      "goodmorning\n",
      "hello\n"
     ]
    }
   ],
   "source": [
    "for res in results:\n",
    "    print(actions[np.argmax(res)])"
   ]
  },
  {
   "cell_type": "code",
   "execution_count": 50,
   "metadata": {},
   "outputs": [
    {
     "data": {
      "text/plain": [
       "array([[0, 0, 0, 1, 0],\n",
       "       [0, 0, 0, 1, 0],\n",
       "       [1, 0, 0, 0, 0],\n",
       "       [0, 0, 0, 0, 1],\n",
       "       [0, 0, 1, 0, 0],\n",
       "       [1, 0, 0, 0, 0],\n",
       "       [0, 1, 0, 0, 0],\n",
       "       [0, 0, 0, 1, 0],\n",
       "       [0, 1, 0, 0, 0],\n",
       "       [0, 0, 0, 1, 0],\n",
       "       [0, 0, 1, 0, 0],\n",
       "       [0, 0, 0, 1, 0],\n",
       "       [0, 0, 0, 1, 0],\n",
       "       [0, 0, 0, 0, 1],\n",
       "       [0, 0, 0, 0, 1],\n",
       "       [0, 1, 0, 0, 0],\n",
       "       [0, 0, 0, 0, 1],\n",
       "       [0, 0, 0, 0, 1],\n",
       "       [0, 0, 0, 0, 1],\n",
       "       [0, 1, 0, 0, 0],\n",
       "       [0, 1, 0, 0, 0],\n",
       "       [0, 1, 0, 0, 0],\n",
       "       [0, 0, 1, 0, 0]])"
      ]
     },
     "execution_count": 50,
     "metadata": {},
     "output_type": "execute_result"
    }
   ],
   "source": [
    "Y_test"
   ]
  },
  {
   "cell_type": "markdown",
   "metadata": {},
   "source": [
    "### Save / Load Model "
   ]
  },
  {
   "cell_type": "code",
   "execution_count": 51,
   "metadata": {},
   "outputs": [],
   "source": [
    "# model.save('ISL.h5')\n",
    "\n",
    "# model.load_weights('ISL.h5')"
   ]
  },
  {
   "cell_type": "markdown",
   "metadata": {},
   "source": [
    "### Evaluations"
   ]
  },
  {
   "cell_type": "code",
   "execution_count": 52,
   "metadata": {},
   "outputs": [],
   "source": [
    "from sklearn.metrics import multilabel_confusion_matrix, accuracy_score"
   ]
  },
  {
   "cell_type": "code",
   "execution_count": 53,
   "metadata": {},
   "outputs": [],
   "source": [
    "yhat = model.predict(X_test)"
   ]
  },
  {
   "cell_type": "code",
   "execution_count": 54,
   "metadata": {},
   "outputs": [],
   "source": [
    "ytrue = np.argmax(Y_test, axis=1).tolist()\n",
    "yhat = np.argmax(yhat, axis=1).tolist()"
   ]
  },
  {
   "cell_type": "code",
   "execution_count": 55,
   "metadata": {},
   "outputs": [
    {
     "name": "stdout",
     "output_type": "stream",
     "text": [
      "[3, 3, 0, 4, 2, 0, 1, 3, 1, 3, 2, 3, 3, 4, 4, 1, 4, 4, 4, 1, 1, 1, 2]\n",
      "[3, 3, 0, 4, 2, 0, 1, 3, 1, 3, 2, 3, 3, 4, 4, 1, 4, 4, 4, 1, 1, 1, 2]\n"
     ]
    }
   ],
   "source": [
    "print(ytrue)\n",
    "print(yhat)"
   ]
  },
  {
   "cell_type": "code",
   "execution_count": 56,
   "metadata": {},
   "outputs": [
    {
     "data": {
      "text/plain": [
       "array([[[21,  0],\n",
       "        [ 0,  2]],\n",
       "\n",
       "       [[17,  0],\n",
       "        [ 0,  6]],\n",
       "\n",
       "       [[20,  0],\n",
       "        [ 0,  3]],\n",
       "\n",
       "       [[17,  0],\n",
       "        [ 0,  6]],\n",
       "\n",
       "       [[17,  0],\n",
       "        [ 0,  6]]])"
      ]
     },
     "execution_count": 56,
     "metadata": {},
     "output_type": "execute_result"
    }
   ],
   "source": [
    "# Draw confusion matrix\n",
    "multilabel_confusion_matrix(ytrue, yhat)"
   ]
  },
  {
   "cell_type": "code",
   "execution_count": 57,
   "metadata": {},
   "outputs": [
    {
     "data": {
      "text/plain": [
       "100.0"
      ]
     },
     "execution_count": 57,
     "metadata": {},
     "output_type": "execute_result"
    }
   ],
   "source": [
    "accuracy_score(ytrue, yhat) * 100"
   ]
  },
  {
   "cell_type": "markdown",
   "metadata": {},
   "source": [
    "### Test-1 (Live)"
   ]
  },
  {
   "cell_type": "code",
   "execution_count": null,
   "metadata": {},
   "outputs": [
    {
     "name": "stdout",
     "output_type": "stream",
     "text": [
      "[0.000000e+00 0.000000e+00 0.000000e+00 1.000000e+00 3.944649e-23] namaste\n",
      "[0.0000000e+00 1.9856105e-18 8.8693635e-27 1.1365836e-03 9.9886346e-01] thankyou\n",
      "[0.         0.         0.         0.7292608  0.27073926] namaste\n",
      "[0.0000000e+00 2.6439708e-33 0.0000000e+00 1.0498519e-05 9.9998951e-01] thankyou\n",
      "[0.         0.         0.         0.99884427 0.00115567] namaste\n",
      "[0.         0.         0.         0.25110498 0.748895  ] thankyou\n",
      "[0.0000000e+00 0.0000000e+00 0.0000000e+00 9.9999845e-01 1.5035436e-06] namaste\n",
      "[0.         0.         0.         0.13802552 0.8619745 ] thankyou\n",
      "[0.0000000e+00 0.0000000e+00 0.0000000e+00 1.0000000e+00 2.5188533e-18] namaste\n",
      "[0.0000000e+00 0.0000000e+00 0.0000000e+00 8.0729200e-04 9.9919266e-01] thankyou\n",
      "[0.000000e+00 0.000000e+00 0.000000e+00 1.000000e+00 7.466329e-21] namaste\n",
      "[0.000000e+00 5.001229e-30 0.000000e+00 1.681233e-03 9.983188e-01] thankyou\n",
      "[0.0000000e+00 0.0000000e+00 0.0000000e+00 1.0000000e+00 1.5746939e-20] namaste\n",
      "[0.         0.         0.         0.03201135 0.96798867] thankyou\n",
      "[0.0000000e+00 0.0000000e+00 0.0000000e+00 9.9972242e-01 2.7750767e-04] namaste\n",
      "[0.         0.         0.         0.02349553 0.9765045 ] thankyou\n",
      "[0.         0.         0.         0.84215605 0.15784396] namaste\n",
      "[0.0000000e+00 4.6963507e-36 0.0000000e+00 1.1343384e-02 9.8865664e-01] thankyou\n",
      "[0.0000000e+00 1.1817426e-34 7.0723067e-33 1.0000000e+00 8.0834852e-18] namaste\n",
      "[0.         0.         0.         0.00249861 0.99750143] thankyou\n",
      "[5.6977923e-30 1.9510495e-09 6.3997667e-33 9.9999702e-01 2.9927880e-06] namaste\n"
     ]
    }
   ],
   "source": [
    "# New detection variables\n",
    "sequence = []\n",
    "sentence = []\n",
    "threshold = 0.7\n",
    "res = []\n",
    "\n",
    "cap = cv2.VideoCapture(0)\n",
    "with mp_holistic.Holistic(min_detection_confidence=0.5, min_tracking_confidence=0.5) as holistic:\n",
    "    while cap.isOpened():\n",
    "        # Capture Video\n",
    "        ret, frame = cap.read()\n",
    "\n",
    "        # Detect Keypoints\n",
    "        image, results = mediapipe_detection(frame, holistic)\n",
    "        #print(results)\n",
    "\n",
    "        # Draw Landmarks\n",
    "        draw_landmarks(image, results)\n",
    "        \n",
    "        # Prediction Logic\n",
    "        keypoints = extract_keypoints(results)\n",
    "        sequence.append(keypoints)\n",
    "        sequence = sequence[-30:]\n",
    "        \n",
    "        if len(sequence) == 30:\n",
    "            res = model.predict(np.expand_dims(sequence, axis=0))[0]\n",
    "        \n",
    "         #3. Viz logic\n",
    "        try:\n",
    "            if res[np.argmax(res)] > threshold: \n",
    "                if len(sentence) > 0: \n",
    "                    if actions[np.argmax(res)] != sentence[-1]:\n",
    "                        print(res, actions[np.argmax(res)])\n",
    "                        sentence.append(actions[np.argmax(res)])\n",
    "                else:\n",
    "                    print(res, actions[np.argmax(res)])\n",
    "                    sentence.append(actions[np.argmax(res)])\n",
    "        except:\n",
    "            pass\n",
    "        if len(sentence) > 5: \n",
    "            sentence = sentence[-5:]\n",
    "            \n",
    "        cv2.rectangle(image, (0,0), (640, 40), (245, 117, 16), -1)\n",
    "        cv2.putText(image, ' '.join(sentence), (3,30), \n",
    "                       cv2.FONT_HERSHEY_SIMPLEX, 1, (255, 255, 255), 2, cv2.LINE_AA)\n",
    "        \n",
    "        # Show Video\n",
    "        cv2.imshow('OpenCV Webcam', image)\n",
    "        # Quit\n",
    "        if cv2.waitKey(10) & 0xFF == ord('q'):\n",
    "            break\n",
    "\n",
    "    cap.release()\n",
    "    cv2.destroyAllWindows()"
   ]
  },
  {
   "cell_type": "code",
   "execution_count": null,
   "metadata": {},
   "outputs": [],
   "source": [
    "cap.release()\n",
    "cv2.destroyAllWindows()"
   ]
  },
  {
   "cell_type": "markdown",
   "metadata": {},
   "source": [
    "### Test-2 ( One By One )"
   ]
  },
  {
   "cell_type": "code",
   "execution_count": 90,
   "metadata": {},
   "outputs": [
    {
     "name": "stdout",
     "output_type": "stream",
     "text": [
      "[0.0000000e+00 3.2024193e-22 3.6145379e-26 9.9313837e-01 6.8616490e-03] namaste\n",
      "[7.9405700e-30 1.9989937e-15 2.0980821e-19 8.9089364e-01 1.0910644e-01] namaste\n",
      "[0.000000e+00 0.000000e+00 0.000000e+00 1.000000e+00 6.491627e-09] namaste\n",
      "[0.0000000e+00 3.1407430e-35 0.0000000e+00 9.9989641e-01 1.0360752e-04] namaste\n",
      "[0.000000e+00 0.000000e+00 0.000000e+00 1.000000e+00 7.364143e-10] namaste\n",
      "[3.2215080e-27 1.1038094e-18 1.5923212e-16 9.9686784e-01 3.1321368e-03] namaste\n",
      "[1.6485386e-32 2.5321837e-22 1.2465651e-21 9.9825901e-01 1.7409779e-03] namaste\n",
      "[0.0000000e+00 0.0000000e+00 0.0000000e+00 9.9999738e-01 2.6777677e-06] namaste\n",
      "[0.0000000e+00 7.8380672e-29 2.5603605e-31 9.9965417e-01 3.4581879e-04] namaste\n",
      "[0.0000000e+00 6.1589924e-33 0.0000000e+00 9.9982625e-01 1.7373155e-04] namaste\n",
      "[0.0000000e+00 9.8123598e-25 8.5221083e-31 9.6379715e-01 3.6202881e-02] namaste\n"
     ]
    }
   ],
   "source": [
    "threshold = 0.8\n",
    "num_frames = 30\n",
    "sequence = []\n",
    "action = \"\"\n",
    "frame_num = 0\n",
    "res = []\n",
    "\n",
    "cap = cv2.VideoCapture(0)\n",
    "with mp_holistic.Holistic(min_detection_confidence=0.5, min_tracking_confidence=0.5) as holistic:\n",
    "    while cap.isOpened():\n",
    "        \n",
    "#         for frame_num in range(num_frames):\n",
    "\n",
    "            # Capture Video\n",
    "            ret, frame = cap.read()\n",
    "\n",
    "            # Detect Keypoints\n",
    "            image, results = mediapipe_detection(frame, holistic)\n",
    "            #print(results)\n",
    "\n",
    "            # Draw Landmarks\n",
    "            draw_landmarks(image, results)\n",
    "            \n",
    "            if frame_num == 0:\n",
    "                cv2.putText(image, 'STARTING', (120,200),\n",
    "                            cv2.FONT_HERSHEY_SIMPLEX, 1, (0,255, 0), 4, cv2.LINE_AA)\n",
    "                cv2.waitKey(1000)\n",
    "\n",
    "            frame_num += 1\n",
    "            # Prediction Logic\n",
    "            keypoints = extract_keypoints(results)\n",
    "            sequence.append(keypoints)\n",
    "\n",
    "            if len(sequence) == 30:\n",
    "                res = model.predict(np.expand_dims(sequence, axis=0))[0]\n",
    "                sequence = []\n",
    "                frame_num = 0\n",
    "                cv2.putText(image, 'DONE', (120,200),\n",
    "                            cv2.FONT_HERSHEY_SIMPLEX, 1, (0,255, 0), 4, cv2.LINE_AA)\n",
    "                cv2.waitKey(2000)\n",
    "\n",
    "             #3. Viz logic\n",
    "            try:\n",
    "                if res[np.argmax(res)] > threshold:\n",
    "                    action = actions[np.argmax(res)]\n",
    "                    print(res, action)\n",
    "                res = []\n",
    "            except:\n",
    "                pass\n",
    "#             if res[np.argmax(res)] > threshold:\n",
    "#                 action = actions[np.argmax(res)]\n",
    "#                 print(res, action)\n",
    "#                 res = []\n",
    "\n",
    "            cv2.rectangle(image, (0,0), (640, 40), (245, 117, 16), -1)\n",
    "            if action:\n",
    "                cv2.putText(image, action, (3,30), \n",
    "                        cv2.FONT_HERSHEY_SIMPLEX, 1, (255, 255, 255), 2, cv2.LINE_AA)\n",
    "                action = \"\"\n",
    "\n",
    "            # Show Video\n",
    "            cv2.imshow('OpenCV Webcam', image)\n",
    "            # Quit\n",
    "            if cv2.waitKey(10) & 0xFF == ord('q'):\n",
    "\n",
    "                break"
   ]
  },
  {
   "cell_type": "code",
   "execution_count": 91,
   "metadata": {},
   "outputs": [],
   "source": [
    "cap.release()\n",
    "cv2.destroyAllWindows()"
   ]
  },
  {
   "cell_type": "markdown",
   "metadata": {},
   "source": [
    "### Test-3 ( Video Based )"
   ]
  },
  {
   "cell_type": "code",
   "execution_count": 69,
   "metadata": {},
   "outputs": [
    {
     "name": "stdout",
     "output_type": "stream",
     "text": [
      "['bye-0.mp4', 'hello-0.mp4', 'bye-1.mp4', 'namaste-0.mp4', 'hello-1.mp4', 'goodmorning-1.mp4', 'thankyou-1.mp4', 'thankyou-0.mp4', 'goodmorning-0.mp4']\n",
      "[5.4127985e-10 2.6411644e-06 3.2157885e-08 9.9999726e-01 1.3791848e-07] namaste\n"
     ]
    }
   ],
   "source": [
    "import os\n",
    "mydir = './tests'\n",
    "all_files = os.listdir(mydir)\n",
    "mp4_files = [ fname for fname in all_files if fname.endswith('.mp4') ]\n",
    "print(mp4_files)\n",
    "\n",
    "threshold = 0.5\n",
    "num_frames = 30\n",
    "sequence = []\n",
    "frame_num = 0\n",
    "res = []\n",
    "N = 3\n",
    "\n",
    "#########################################################\n",
    "# for i in range(1,N+1):\n",
    "\n",
    "with mp_holistic.Holistic(min_detection_confidence=0.5, min_tracking_confidence=0.5) as holistic:\n",
    "    \n",
    "#     for file in mp4_files:\n",
    "        \n",
    "        path = './Signs_Videos/namaste/namaste-24.mp4'\n",
    "        cap = cv2.VideoCapture(path)\n",
    "\n",
    "        while cap.isOpened():\n",
    "            # Capture Video\n",
    "            ret, frame = cap.read()\n",
    "\n",
    "            # Detect Keypoints\n",
    "            image, results = mediapipe_detection(frame, holistic)\n",
    "            #print(results)\n",
    "\n",
    "            # Draw Landmarks\n",
    "            draw_landmarks(image, results)\n",
    "\n",
    "            frame_num += 1\n",
    "            # Prediction Logic\n",
    "            keypoints = extract_keypoints(results)\n",
    "            sequence.append(keypoints)\n",
    "\n",
    "            # Show Video\n",
    "            cv2.rectangle(image, (0,0), (640, 40), (245, 117, 16), -1)\n",
    "            cv2.imshow('OpenCV Webcam', image)\n",
    "\n",
    "            if len(sequence) == 30:\n",
    "                res = model.predict(np.expand_dims(sequence, axis=0))[0]\n",
    "                # Prediction\n",
    "                if res[np.argmax(res)] > threshold:\n",
    "                    action = actions[np.argmax(res)]\n",
    "                    print(res, action)\n",
    "                break\n",
    "\n",
    "            # Quit\n",
    "            if cv2.waitKey(10) & 0xFF == ord('q'):\n",
    "                break\n",
    "\n",
    "cap.release()\n",
    "cv2.destroyAllWindows()"
   ]
  },
  {
   "cell_type": "code",
   "execution_count": 126,
   "metadata": {},
   "outputs": [],
   "source": [
    "cap.release()\n",
    "cv2.destroyAllWindows()"
   ]
  },
  {
   "cell_type": "code",
   "execution_count": null,
   "metadata": {},
   "outputs": [],
   "source": []
  }
 ],
 "metadata": {
  "kernelspec": {
   "display_name": "Python 3",
   "language": "python",
   "name": "python3"
  },
  "language_info": {
   "codemirror_mode": {
    "name": "ipython",
    "version": 3
   },
   "file_extension": ".py",
   "mimetype": "text/x-python",
   "name": "python",
   "nbconvert_exporter": "python",
   "pygments_lexer": "ipython3",
   "version": "3.7.6"
  }
 },
 "nbformat": 4,
 "nbformat_minor": 4
}
