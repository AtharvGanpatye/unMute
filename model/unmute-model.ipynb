{
 "cells": [
  {
   "cell_type": "code",
   "execution_count": 1,
   "metadata": {},
   "outputs": [],
   "source": [
    "# !pip install tensorflow==2.4.1 tensorflow-gpu==2.4.1 opencv-python mediapipe sklearn matplotlib numpy"
   ]
  },
  {
   "cell_type": "code",
   "execution_count": 2,
   "metadata": {},
   "outputs": [],
   "source": [
    "import numpy as np\n",
    "import os, time\n",
    "import cv2\n",
    "import matplotlib.pyplot as plt\n",
    "import mediapipe as mp"
   ]
  },
  {
   "cell_type": "code",
   "execution_count": 3,
   "metadata": {},
   "outputs": [],
   "source": [
    "mp_holistic = mp.solutions.holistic  # Holistic Model\n",
    "mp_drawing = mp.solutions.drawing_utils  # Drawing Utilities"
   ]
  },
  {
   "cell_type": "code",
   "execution_count": 4,
   "metadata": {},
   "outputs": [],
   "source": [
    "def mediapipe_detection(image, model):\n",
    "    image = cv2.cvtColor(image, cv2.COLOR_BGR2RGB)    # Colour Conversion\n",
    "    image.flags.writeable = False\n",
    "    results = model.process(image)       # Model Makes Prediction\n",
    "    image.flags.writeable = True\n",
    "    image = cv2.cvtColor(image, cv2.COLOR_RGB2BGR)    # Colour Re-conversion\n",
    "    return image, results"
   ]
  },
  {
   "cell_type": "code",
   "execution_count": 5,
   "metadata": {},
   "outputs": [],
   "source": [
    "def draw_landmarks(image, results):\n",
    "#     mp_drawing.draw_landmarks(image, results.pose_landmarks, mp_holistic.POSE_CONNECTIONS)\n",
    "#     mp_drawing.draw_landmarks(image, results.face_landmarks, mp_holistic.FACEMESH_TESSELATION)\n",
    "#     mp_drawing.draw_landmarks(image, results.right_hand_landmarks, mp_holistic.HAND_CONNECTIONS)\n",
    "#     mp_drawing.draw_landmarks(image, results.left_hand_landmarks, mp_holistic.HAND_CONNECTIONS)\n",
    "\n",
    "# Draw face connections\n",
    "    mp_drawing.draw_landmarks(image, results.face_landmarks, mp_holistic.FACEMESH_TESSELATION, \n",
    "                             mp_drawing.DrawingSpec(color=(80,110,10), thickness=1, circle_radius=1), \n",
    "                             mp_drawing.DrawingSpec(color=(80,256,121), thickness=1, circle_radius=1)\n",
    "                             ) \n",
    "    # Draw pose connections\n",
    "    mp_drawing.draw_landmarks(image, results.pose_landmarks, mp_holistic.POSE_CONNECTIONS,\n",
    "                             mp_drawing.DrawingSpec(color=(80,22,10), thickness=2, circle_radius=4), \n",
    "                             mp_drawing.DrawingSpec(color=(80,44,121), thickness=2, circle_radius=2)\n",
    "                             ) \n",
    "    # Draw left hand connections\n",
    "    mp_drawing.draw_landmarks(image, results.left_hand_landmarks, mp_holistic.HAND_CONNECTIONS, \n",
    "                             mp_drawing.DrawingSpec(color=(121,22,76), thickness=2, circle_radius=4), \n",
    "                             mp_drawing.DrawingSpec(color=(121,44,250), thickness=2, circle_radius=2)\n",
    "                             ) \n",
    "    # Draw right hand connections  \n",
    "    mp_drawing.draw_landmarks(image, results.right_hand_landmarks, mp_holistic.HAND_CONNECTIONS, \n",
    "                             mp_drawing.DrawingSpec(color=(245,117,66), thickness=2, circle_radius=4), \n",
    "                             mp_drawing.DrawingSpec(color=(245,66,230), thickness=2, circle_radius=2)\n",
    "                             )"
   ]
  },
  {
   "cell_type": "code",
   "execution_count": 6,
   "metadata": {},
   "outputs": [
    {
     "data": {
      "text/plain": [
       "frozenset({(0, 1),\n",
       "           (0, 4),\n",
       "           (1, 2),\n",
       "           (2, 3),\n",
       "           (3, 7),\n",
       "           (4, 5),\n",
       "           (5, 6),\n",
       "           (6, 8),\n",
       "           (9, 10),\n",
       "           (11, 12),\n",
       "           (11, 13),\n",
       "           (11, 23),\n",
       "           (12, 14),\n",
       "           (12, 24),\n",
       "           (13, 15),\n",
       "           (14, 16),\n",
       "           (15, 17),\n",
       "           (15, 19),\n",
       "           (15, 21),\n",
       "           (16, 18),\n",
       "           (16, 20),\n",
       "           (16, 22),\n",
       "           (17, 19),\n",
       "           (18, 20),\n",
       "           (23, 24),\n",
       "           (23, 25),\n",
       "           (24, 26),\n",
       "           (25, 27),\n",
       "           (26, 28),\n",
       "           (27, 29),\n",
       "           (27, 31),\n",
       "           (28, 30),\n",
       "           (28, 32),\n",
       "           (29, 31),\n",
       "           (30, 32)})"
      ]
     },
     "execution_count": 6,
     "metadata": {},
     "output_type": "execute_result"
    }
   ],
   "source": [
    "mp_holistic.POSE_CONNECTIONS"
   ]
  },
  {
   "cell_type": "code",
   "execution_count": 7,
   "metadata": {},
   "outputs": [],
   "source": [
    "cap = cv2.VideoCapture(0)\n",
    "with mp_holistic.Holistic(min_detection_confidence=0.6, min_tracking_confidence=0.6) as holistic:\n",
    "    while cap.isOpened():\n",
    "        # Capture Video\n",
    "        ret, frame = cap.read()\n",
    "\n",
    "        # Detect Keypoints\n",
    "        image, results = mediapipe_detection(frame, holistic)\n",
    "        #print(results)\n",
    "\n",
    "        # Draw Landmarks\n",
    "        draw_landmarks(image, results)\n",
    "        \n",
    "        # Show Video\n",
    "        cv2.imshow('OpenCV Webcam', image)\n",
    "        # Quit\n",
    "        if cv2.waitKey(10) & 0xFF == ord('q'):\n",
    "            break\n",
    "\n",
    "    cap.release()\n",
    "    cv2.destroyAllWindows()"
   ]
  },
  {
   "cell_type": "code",
   "execution_count": 8,
   "metadata": {},
   "outputs": [
    {
     "name": "stdout",
     "output_type": "stream",
     "text": [
      "[x: 0.8197046518325806\n",
      "y: 0.46283626556396484\n",
      "z: 2.6321058044231904e-07\n",
      ", x: 0.7608803510665894\n",
      "y: 0.4743990898132324\n",
      "z: -0.012203458696603775\n",
      ", x: 0.7113021016120911\n",
      "y: 0.4598313868045807\n",
      "z: -0.017117634415626526\n",
      ", x: 0.6731820106506348\n",
      "y: 0.441959023475647\n",
      "z: -0.023383358493447304\n",
      ", x: 0.6466866731643677\n",
      "y: 0.42565950751304626\n",
      "z: -0.029635349288582802\n",
      ", x: 0.7222179174423218\n",
      "y: 0.34867000579833984\n",
      "z: 0.007899966090917587\n",
      ", x: 0.6937764286994934\n",
      "y: 0.289518803358078\n",
      "z: -0.0020187885966151953\n",
      ", x: 0.6772328019142151\n",
      "y: 0.2522437274456024\n",
      "z: -0.014609910547733307\n",
      ", x: 0.6641317009925842\n",
      "y: 0.2200503796339035\n",
      "z: -0.023817887529730797\n",
      ", x: 0.7443864345550537\n",
      "y: 0.3207634389400482\n",
      "z: 0.0033429774921387434\n",
      ", x: 0.7142176032066345\n",
      "y: 0.2511279284954071\n",
      "z: -0.003463369095697999\n",
      ", x: 0.6945395469665527\n",
      "y: 0.20894192159175873\n",
      "z: -0.01416853442788124\n",
      ", x: 0.6785420179367065\n",
      "y: 0.17552655935287476\n",
      "z: -0.022140979766845703\n",
      ", x: 0.7702077627182007\n",
      "y: 0.3024207353591919\n",
      "z: -0.005121103022247553\n",
      ", x: 0.7426347732543945\n",
      "y: 0.234517902135849\n",
      "z: -0.0122683672234416\n",
      ", x: 0.722731351852417\n",
      "y: 0.19301526248455048\n",
      "z: -0.020028037950396538\n",
      ", x: 0.7063190340995789\n",
      "y: 0.15936565399169922\n",
      "z: -0.02551012672483921\n",
      ", x: 0.8007888197898865\n",
      "y: 0.2939740717411041\n",
      "z: -0.015724457800388336\n",
      ", x: 0.7820815443992615\n",
      "y: 0.23723837733268738\n",
      "z: -0.0215668473392725\n",
      ", x: 0.7662717700004578\n",
      "y: 0.20241324603557587\n",
      "z: -0.023843994364142418\n",
      ", x: 0.7512863874435425\n",
      "y: 0.1729000061750412\n",
      "z: -0.02532547153532505\n",
      "]\n"
     ]
    },
    {
     "data": {
      "text/plain": [
       "21"
      ]
     },
     "execution_count": 8,
     "metadata": {},
     "output_type": "execute_result"
    }
   ],
   "source": [
    "landmarks = results.left_hand_landmarks.landmark\n",
    "\n",
    "print(landmarks)\n",
    "\n",
    "len(landmarks)"
   ]
  },
  {
   "cell_type": "code",
   "execution_count": 9,
   "metadata": {},
   "outputs": [
    {
     "data": {
      "text/plain": [
       "array([[[ 64,  86, 114],\n",
       "        [ 68,  91, 119],\n",
       "        [ 67,  92, 113],\n",
       "        ...,\n",
       "        [177, 171, 170],\n",
       "        [153, 148, 142],\n",
       "        [160, 155, 149]],\n",
       "\n",
       "       [[ 65,  93, 111],\n",
       "        [ 68,  96, 114],\n",
       "        [ 65,  93, 111],\n",
       "        ...,\n",
       "        [172, 159, 152],\n",
       "        [172, 160, 150],\n",
       "        [170, 157, 148]],\n",
       "\n",
       "       [[ 49,  95,  87],\n",
       "        [ 54,  99,  92],\n",
       "        [ 52,  97,  94],\n",
       "        ...,\n",
       "        [172, 160, 150],\n",
       "        [170, 160, 150],\n",
       "        [169, 159, 149]],\n",
       "\n",
       "       ...,\n",
       "\n",
       "       [[191, 176, 138],\n",
       "        [187, 173, 134],\n",
       "        [192, 176, 133],\n",
       "        ...,\n",
       "        [139, 136, 105],\n",
       "        [151, 134, 105],\n",
       "        [152, 135, 106]],\n",
       "\n",
       "       [[193, 167, 155],\n",
       "        [200, 174, 162],\n",
       "        [203, 181, 159],\n",
       "        ...,\n",
       "        [142, 129, 106],\n",
       "        [140, 130, 104],\n",
       "        [140, 130, 104]],\n",
       "\n",
       "       [[193, 160, 157],\n",
       "        [189, 156, 152],\n",
       "        [192, 162, 151],\n",
       "        ...,\n",
       "        [142, 128, 107],\n",
       "        [149, 129, 107],\n",
       "        [150, 130, 108]]], dtype=uint8)"
      ]
     },
     "execution_count": 9,
     "metadata": {},
     "output_type": "execute_result"
    }
   ],
   "source": [
    "frame"
   ]
  },
  {
   "cell_type": "code",
   "execution_count": 10,
   "metadata": {},
   "outputs": [
    {
     "data": {
      "text/plain": [
       "<matplotlib.image.AxesImage at 0x7fe1be85aeb0>"
      ]
     },
     "execution_count": 10,
     "metadata": {},
     "output_type": "execute_result"
    },
    {
     "data": {
      "image/png": "[encoded data removed]",
      "text/plain": [
       "<Figure size 432x288 with 1 Axes>"
      ]
     },
     "metadata": {
      "needs_background": "light"
     },
     "output_type": "display_data"
    }
   ],
   "source": [
    "plt.imshow(cv2.cvtColor(frame, cv2.COLOR_BGR2RGB))"
   ]
  },
  {
   "cell_type": "code",
   "execution_count": 11,
   "metadata": {},
   "outputs": [
    {
     "data": {
      "text/plain": [
       "mediapipe.python.solution_base.SolutionOutputs"
      ]
     },
     "execution_count": 11,
     "metadata": {},
     "output_type": "execute_result"
    }
   ],
   "source": [
    "results"
   ]
  },
  {
   "cell_type": "code",
   "execution_count": 12,
   "metadata": {},
   "outputs": [],
   "source": [
    "draw_landmarks(frame, results)"
   ]
  },
  {
   "cell_type": "code",
   "execution_count": 13,
   "metadata": {},
   "outputs": [
    {
     "data": {
      "text/plain": [
       "<matplotlib.image.AxesImage at 0x7fe1be75a160>"
      ]
     },
     "execution_count": 13,
     "metadata": {},
     "output_type": "execute_result"
    },
    {
     "data": {
      "image/png": "[encoded data removed]",
      "text/plain": [
       "<Figure size 432x288 with 1 Axes>"
      ]
     },
     "metadata": {
      "needs_background": "light"
     },
     "output_type": "display_data"
    }
   ],
   "source": [
    "plt.imshow(cv2.cvtColor(frame, cv2.COLOR_BGR2RGB))"
   ]
  },
  {
   "cell_type": "markdown",
   "metadata": {},
   "source": [
    "### Extract Keypoints"
   ]
  },
  {
   "cell_type": "code",
   "execution_count": 14,
   "metadata": {},
   "outputs": [
    {
     "data": {
      "text/plain": [
       "landmark {\n",
       "  x: 0.4703422486782074\n",
       "  y: 0.3158172369003296\n",
       "  z: -0.9007973670959473\n",
       "  visibility: 0.9999736547470093\n",
       "}\n",
       "landmark {\n",
       "  x: 0.5057385563850403\n",
       "  y: 0.24792546033859253\n",
       "  z: -0.8159615397453308\n",
       "  visibility: 0.9999439716339111\n",
       "}\n",
       "landmark {\n",
       "  x: 0.523792564868927\n",
       "  y: 0.24861735105514526\n",
       "  z: -0.8155878782272339\n",
       "  visibility: 0.9999415874481201\n",
       "}\n",
       "landmark {\n",
       "  x: 0.5399905443191528\n",
       "  y: 0.24996072053909302\n",
       "  z: -0.8149967193603516\n",
       "  visibility: 0.999930739402771\n",
       "}\n",
       "landmark {\n",
       "  x: 0.44204631447792053\n",
       "  y: 0.25555220246315\n",
       "  z: -0.828877329826355\n",
       "  visibility: 0.9999472498893738\n",
       "}\n",
       "landmark {\n",
       "  x: 0.42154669761657715\n",
       "  y: 0.2596636712551117\n",
       "  z: -0.8280545473098755\n",
       "  visibility: 0.999944269657135\n",
       "}\n",
       "landmark {\n",
       "  x: 0.4019981026649475\n",
       "  y: 0.2642366886138916\n",
       "  z: -0.8281757235527039\n",
       "  visibility: 0.9999427199363708\n",
       "}\n",
       "landmark {\n",
       "  x: 0.5641556978225708\n",
       "  y: 0.29251691699028015\n",
       "  z: -0.37874099612236023\n",
       "  visibility: 0.999927818775177\n",
       "}\n",
       "landmark {\n",
       "  x: 0.379688024520874\n",
       "  y: 0.30757609009742737\n",
       "  z: -0.42275166511535645\n",
       "  visibility: 0.9999659657478333\n",
       "}\n",
       "landmark {\n",
       "  x: 0.5095750093460083\n",
       "  y: 0.38976094126701355\n",
       "  z: -0.7487395405769348\n",
       "  visibility: 0.9999695420265198\n",
       "}\n",
       "landmark {\n",
       "  x: 0.4297458231449127\n",
       "  y: 0.3971424698829651\n",
       "  z: -0.762440025806427\n",
       "  visibility: 0.9999766945838928\n",
       "}\n",
       "landmark {\n",
       "  x: 0.7168477177619934\n",
       "  y: 0.6541223526000977\n",
       "  z: -0.18277090787887573\n",
       "  visibility: 0.9997006058692932\n",
       "}\n",
       "landmark {\n",
       "  x: 0.2551657557487488\n",
       "  y: 0.6952388882637024\n",
       "  z: -0.2013302743434906\n",
       "  visibility: 0.998985767364502\n",
       "}\n",
       "landmark {\n",
       "  x: 0.979786217212677\n",
       "  y: 0.9738250970840454\n",
       "  z: -0.6028074026107788\n",
       "  visibility: 0.9604929089546204\n",
       "}\n",
       "landmark {\n",
       "  x: 0.20149798691272736\n",
       "  y: 1.0832020044326782\n",
       "  z: -0.12476585805416107\n",
       "  visibility: 0.4489925801753998\n",
       "}\n",
       "landmark {\n",
       "  x: 0.8278324007987976\n",
       "  y: 0.5356367826461792\n",
       "  z: -1.1113733053207397\n",
       "  visibility: 0.9704658389091492\n",
       "}\n",
       "landmark {\n",
       "  x: 0.19190585613250732\n",
       "  y: 1.5488795042037964\n",
       "  z: -0.5312737226486206\n",
       "  visibility: 0.3602267801761627\n",
       "}\n",
       "landmark {\n",
       "  x: 0.7856267094612122\n",
       "  y: 0.3637624979019165\n",
       "  z: -1.2495386600494385\n",
       "  visibility: 0.9589737057685852\n",
       "}\n",
       "landmark {\n",
       "  x: 0.16825225949287415\n",
       "  y: 1.676466464996338\n",
       "  z: -0.6038731336593628\n",
       "  visibility: 0.3838353157043457\n",
       "}\n",
       "landmark {\n",
       "  x: 0.7455017566680908\n",
       "  y: 0.3641519546508789\n",
       "  z: -1.1050117015838623\n",
       "  visibility: 0.9618247747421265\n",
       "}\n",
       "landmark {\n",
       "  x: 0.20406928658485413\n",
       "  y: 1.6582883596420288\n",
       "  z: -0.6955883502960205\n",
       "  visibility: 0.4967249035835266\n",
       "}\n",
       "landmark {\n",
       "  x: 0.7348402142524719\n",
       "  y: 0.4450986087322235\n",
       "  z: -1.0774681568145752\n",
       "  visibility: 0.9585886001586914\n",
       "}\n",
       "landmark {\n",
       "  x: 0.22265014052391052\n",
       "  y: 1.6151840686798096\n",
       "  z: -0.5844818949699402\n",
       "  visibility: 0.514320969581604\n",
       "}\n",
       "landmark {\n",
       "  x: 0.6713699102401733\n",
       "  y: 1.4981601238250732\n",
       "  z: -0.09292718023061752\n",
       "  visibility: 0.002827234100550413\n",
       "}\n",
       "landmark {\n",
       "  x: 0.3563569188117981\n",
       "  y: 1.511724591255188\n",
       "  z: 0.09894917905330658\n",
       "  visibility: 0.001945207710377872\n",
       "}\n",
       "landmark {\n",
       "  x: 0.6828652024269104\n",
       "  y: 2.242736577987671\n",
       "  z: -0.045204415917396545\n",
       "  visibility: 0.0004950410802848637\n",
       "}\n",
       "landmark {\n",
       "  x: 0.4018900394439697\n",
       "  y: 2.2420947551727295\n",
       "  z: 0.1257506161928177\n",
       "  visibility: 0.0001777376455720514\n",
       "}\n",
       "landmark {\n",
       "  x: 0.6900425553321838\n",
       "  y: 2.8585469722747803\n",
       "  z: 0.6012378931045532\n",
       "  visibility: 3.243709579692222e-05\n",
       "}\n",
       "landmark {\n",
       "  x: 0.4219115674495697\n",
       "  y: 2.860450029373169\n",
       "  z: 0.6858909726142883\n",
       "  visibility: 4.395053565531271e-06\n",
       "}\n",
       "landmark {\n",
       "  x: 0.6989385485649109\n",
       "  y: 2.940274238586426\n",
       "  z: 0.6291926503181458\n",
       "  visibility: 2.607396527309902e-05\n",
       "}\n",
       "landmark {\n",
       "  x: 0.4140344262123108\n",
       "  y: 2.948608636856079\n",
       "  z: 0.7316412925720215\n",
       "  visibility: 1.7844426110968925e-05\n",
       "}\n",
       "landmark {\n",
       "  x: 0.6566968560218811\n",
       "  y: 3.053379774093628\n",
       "  z: 0.017770344391465187\n",
       "  visibility: 6.677421333733946e-05\n",
       "}\n",
       "landmark {\n",
       "  x: 0.47316378355026245\n",
       "  y: 3.059359073638916\n",
       "  z: -0.035079050809144974\n",
       "  visibility: 4.760649608215317e-05\n",
       "}"
      ]
     },
     "execution_count": 14,
     "metadata": {},
     "output_type": "execute_result"
    }
   ],
   "source": [
    "results.pose_landmarks"
   ]
  },
  {
   "cell_type": "code",
   "execution_count": 15,
   "metadata": {},
   "outputs": [],
   "source": [
    "pose_landmarks = []\n",
    "for data in results.pose_landmarks.landmark:\n",
    "    temp = np.array([data.x, data.y, data.z, data.visibility])\n",
    "    pose_landmarks.append(temp)"
   ]
  },
  {
   "cell_type": "code",
   "execution_count": 16,
   "metadata": {},
   "outputs": [
    {
     "data": {
      "text/plain": [
       "array([ 4.73163784e-01,  3.05935907e+00, -3.50790508e-02,  4.76064961e-05])"
      ]
     },
     "execution_count": 16,
     "metadata": {},
     "output_type": "execute_result"
    }
   ],
   "source": [
    "temp"
   ]
  },
  {
   "cell_type": "code",
   "execution_count": 17,
   "metadata": {
    "scrolled": true
   },
   "outputs": [
    {
     "data": {
      "text/plain": [
       "[array([ 0.47034225,  0.31581724, -0.90079737,  0.99997365]),\n",
       " array([ 0.50573856,  0.24792546, -0.81596154,  0.99994397]),\n",
       " array([ 0.52379256,  0.24861735, -0.81558788,  0.99994159]),\n",
       " array([ 0.53999054,  0.24996072, -0.81499672,  0.99993074]),\n",
       " array([ 0.44204631,  0.2555522 , -0.82887733,  0.99994725]),\n",
       " array([ 0.4215467 ,  0.25966367, -0.82805455,  0.99994427]),\n",
       " array([ 0.4019981 ,  0.26423669, -0.82817572,  0.99994272]),\n",
       " array([ 0.5641557 ,  0.29251692, -0.378741  ,  0.99992782]),\n",
       " array([ 0.37968802,  0.30757609, -0.42275167,  0.99996597]),\n",
       " array([ 0.50957501,  0.38976094, -0.74873954,  0.99996954]),\n",
       " array([ 0.42974582,  0.39714247, -0.76244003,  0.99997669]),\n",
       " array([ 0.71684772,  0.65412235, -0.18277091,  0.99970061]),\n",
       " array([ 0.25516576,  0.69523889, -0.20133027,  0.99898577]),\n",
       " array([ 0.97978622,  0.9738251 , -0.6028074 ,  0.96049291]),\n",
       " array([ 0.20149799,  1.083202  , -0.12476586,  0.44899258]),\n",
       " array([ 0.8278324 ,  0.53563678, -1.11137331,  0.97046584]),\n",
       " array([ 0.19190586,  1.5488795 , -0.53127372,  0.36022678]),\n",
       " array([ 0.78562671,  0.3637625 , -1.24953866,  0.95897371]),\n",
       " array([ 0.16825226,  1.67646646, -0.60387313,  0.38383532]),\n",
       " array([ 0.74550176,  0.36415195, -1.1050117 ,  0.96182477]),\n",
       " array([ 0.20406929,  1.65828836, -0.69558835,  0.4967249 ]),\n",
       " array([ 0.73484021,  0.44509861, -1.07746816,  0.9585886 ]),\n",
       " array([ 0.22265014,  1.61518407, -0.58448189,  0.51432097]),\n",
       " array([ 0.67136991,  1.49816012, -0.09292718,  0.00282723]),\n",
       " array([0.35635692, 1.51172459, 0.09894918, 0.00194521]),\n",
       " array([ 6.82865202e-01,  2.24273658e+00, -4.52044159e-02,  4.95041080e-04]),\n",
       " array([4.01890039e-01, 2.24209476e+00, 1.25750616e-01, 1.77737646e-04]),\n",
       " array([6.90042555e-01, 2.85854697e+00, 6.01237893e-01, 3.24370958e-05]),\n",
       " array([4.21911567e-01, 2.86045003e+00, 6.85890973e-01, 4.39505357e-06]),\n",
       " array([6.98938549e-01, 2.94027424e+00, 6.29192650e-01, 2.60739653e-05]),\n",
       " array([4.14034426e-01, 2.94860864e+00, 7.31641293e-01, 1.78444261e-05]),\n",
       " array([6.56696856e-01, 3.05337977e+00, 1.77703444e-02, 6.67742133e-05]),\n",
       " array([ 4.73163784e-01,  3.05935907e+00, -3.50790508e-02,  4.76064961e-05])]"
      ]
     },
     "execution_count": 17,
     "metadata": {},
     "output_type": "execute_result"
    }
   ],
   "source": [
    "pose_landmarks"
   ]
  },
  {
   "cell_type": "code",
   "execution_count": 18,
   "metadata": {},
   "outputs": [
    {
     "data": {
      "text/plain": [
       "['__add__',\n",
       " '__class__',\n",
       " '__contains__',\n",
       " '__delattr__',\n",
       " '__dir__',\n",
       " '__doc__',\n",
       " '__eq__',\n",
       " '__format__',\n",
       " '__ge__',\n",
       " '__getattribute__',\n",
       " '__getitem__',\n",
       " '__getnewargs__',\n",
       " '__gt__',\n",
       " '__hash__',\n",
       " '__init__',\n",
       " '__init_subclass__',\n",
       " '__iter__',\n",
       " '__le__',\n",
       " '__len__',\n",
       " '__lt__',\n",
       " '__module__',\n",
       " '__mul__',\n",
       " '__ne__',\n",
       " '__new__',\n",
       " '__reduce__',\n",
       " '__reduce_ex__',\n",
       " '__repr__',\n",
       " '__rmul__',\n",
       " '__setattr__',\n",
       " '__sizeof__',\n",
       " '__slots__',\n",
       " '__str__',\n",
       " '__subclasshook__',\n",
       " '_asdict',\n",
       " '_field_defaults',\n",
       " '_fields',\n",
       " '_fields_defaults',\n",
       " '_make',\n",
       " '_replace',\n",
       " 'count',\n",
       " 'face_landmarks',\n",
       " 'index',\n",
       " 'left_hand_landmarks',\n",
       " 'pose_landmarks',\n",
       " 'pose_world_landmarks',\n",
       " 'right_hand_landmarks',\n",
       " 'segmentation_mask']"
      ]
     },
     "execution_count": 18,
     "metadata": {},
     "output_type": "execute_result"
    }
   ],
   "source": [
    "dir(results)"
   ]
  },
  {
   "cell_type": "code",
   "execution_count": 19,
   "metadata": {},
   "outputs": [
    {
     "data": {
      "text/plain": [
       "468"
      ]
     },
     "execution_count": 19,
     "metadata": {},
     "output_type": "execute_result"
    }
   ],
   "source": [
    "len(results.face_landmarks.landmark)"
   ]
  },
  {
   "cell_type": "code",
   "execution_count": 20,
   "metadata": {},
   "outputs": [
    {
     "data": {
      "text/plain": [
       "33"
      ]
     },
     "execution_count": 20,
     "metadata": {},
     "output_type": "execute_result"
    }
   ],
   "source": [
    "len(results.pose_landmarks.landmark)"
   ]
  },
  {
   "cell_type": "code",
   "execution_count": 21,
   "metadata": {},
   "outputs": [
    {
     "data": {
      "text/plain": [
       "21"
      ]
     },
     "execution_count": 21,
     "metadata": {},
     "output_type": "execute_result"
    }
   ],
   "source": [
    "len(results.left_hand_landmarks.landmark)"
   ]
  },
  {
   "cell_type": "code",
   "execution_count": 22,
   "metadata": {},
   "outputs": [],
   "source": [
    "# Function to extract landmarks and convert to matrix\n",
    "def extract_keypoints(results):\n",
    "    pose = np.array([[res.x, res.y, res.z, res.visibility] for res in results.pose_landmarks.landmark]).flatten() if results.pose_landmarks else np.zeros(33*4)\n",
    "    face = np.array([[res.x, res.y, res.z] for res in results.face_landmarks.landmark]).flatten() if results.face_landmarks else np.zeros(468*3)\n",
    "    lh = np.array([[res.x, res.y, res.z] for res in results.left_hand_landmarks.landmark]).flatten() if results.left_hand_landmarks else np.zeros(21*3)\n",
    "    rh = np.array([[res.x, res.y, res.z] for res in results.right_hand_landmarks.landmark]).flatten() if results.right_hand_landmarks else np.zeros(21*3)\n",
    "    return np.concatenate([pose, face, lh, rh])"
   ]
  },
  {
   "cell_type": "code",
   "execution_count": 23,
   "metadata": {},
   "outputs": [
    {
     "data": {
      "text/plain": [
       "array([ 0.47034225,  0.31581724, -0.90079737, ...,  0.        ,\n",
       "        0.        ,  0.        ])"
      ]
     },
     "execution_count": 23,
     "metadata": {},
     "output_type": "execute_result"
    }
   ],
   "source": [
    "extract_keypoints(results)"
   ]
  },
  {
   "cell_type": "code",
   "execution_count": 24,
   "metadata": {},
   "outputs": [
    {
     "name": "stdout",
     "output_type": "stream",
     "text": [
      "1662\n"
     ]
    }
   ],
   "source": [
    "# 468 points & x,y,z\n",
    "n_face = 468 * 3 \n",
    "\n",
    "# 33 points & x,y,z,visibility\n",
    "n_pose = 33 * 4\n",
    "\n",
    "# 21 points & x,y,z\n",
    "n_lh = 21 * 3\n",
    "n_rh = 21 * 3\n",
    "\n",
    "print(n_face + n_pose + n_lh + n_rh)"
   ]
  },
  {
   "cell_type": "code",
   "execution_count": 25,
   "metadata": {},
   "outputs": [
    {
     "name": "stdout",
     "output_type": "stream",
     "text": [
      "1662\n"
     ]
    }
   ],
   "source": [
    "# These are keypoints captured in 1 frame --> Flattened Into 1D Array of length 1662\n",
    "print(len(extract_keypoints(results)))"
   ]
  },
  {
   "cell_type": "markdown",
   "metadata": {},
   "source": [
    "### Setup Folders For Data-Set"
   ]
  },
  {
   "cell_type": "code",
   "execution_count": 26,
   "metadata": {},
   "outputs": [],
   "source": [
    "# Data created as numpy matrix will be stored here\n",
    "DATA_PATH = os.path.join('Signs_Data')\n",
    "\n",
    "# Actions to be detected\n",
    "actions = np.array(['hello', 'namaste', 'thankyou'])\n",
    "\n",
    "no_sequences = 30\n",
    "\n",
    "sequence_length = 30\n",
    "\n",
    "# Folder start\n",
    "start_folder = 30"
   ]
  },
  {
   "cell_type": "code",
   "execution_count": 27,
   "metadata": {},
   "outputs": [],
   "source": [
    "for action in actions:\n",
    "    for video in range(no_sequences):\n",
    "        try:\n",
    "            os.makedirs(os.path.join(DATA_PATH, action, str(video)))\n",
    "        except:\n",
    "            pass"
   ]
  },
  {
   "cell_type": "markdown",
   "metadata": {},
   "source": [
    "### Collect Data"
   ]
  },
  {
   "cell_type": "code",
   "execution_count": 28,
   "metadata": {},
   "outputs": [],
   "source": [
    "cap = cv2.VideoCapture(0)\n",
    "# Set mediapipe model \n",
    "with mp_holistic.Holistic(min_detection_confidence=0.5, min_tracking_confidence=0.5) as holistic:\n",
    "    \n",
    "    # NEW LOOP\n",
    "    # Loop through actions\n",
    "    for action in actions:\n",
    "        # Loop through sequences aka videos\n",
    "        for sequence in range(no_sequences):\n",
    "            # Loop through video length aka sequence length\n",
    "            for frame_num in range(sequence_length):\n",
    "\n",
    "                # Read feed\n",
    "                ret, frame = cap.read()\n",
    "\n",
    "                # Make detections\n",
    "                image, results = mediapipe_detection(frame, holistic)\n",
    "                #print(results)\n",
    "\n",
    "                # Draw landmarks\n",
    "                draw_landmarks(image, results)\n",
    "                \n",
    "                # NEW Apply wait logic\n",
    "                if frame_num == 0: \n",
    "                    cv2.putText(image, 'STARTING COLLECTION', (120,200), \n",
    "                               cv2.FONT_HERSHEY_SIMPLEX, 1, (0,255, 0), 4, cv2.LINE_AA)\n",
    "                    cv2.putText(image, 'Collecting frames for {} Video Number {}'.format(action, sequence), (15,12), \n",
    "                               cv2.FONT_HERSHEY_SIMPLEX, 0.5, (0, 0, 255), 1, cv2.LINE_AA)\n",
    "                    # Show to screen\n",
    "                    cv2.imshow('OpenCV Feed', image)\n",
    "                    cv2.waitKey(2000)\n",
    "                else: \n",
    "                    cv2.putText(image, 'Collecting frames for {} Video Number {}'.format(action, sequence), (15,12), \n",
    "                               cv2.FONT_HERSHEY_SIMPLEX, 0.5, (0, 0, 255), 1, cv2.LINE_AA)\n",
    "                    # Show to screen\n",
    "                    cv2.imshow('OpenCV Feed', image)\n",
    "                \n",
    "                # NEW Export keypoints\n",
    "                keypoints = extract_keypoints(results)\n",
    "                npy_path = os.path.join(DATA_PATH, action, str(sequence), str(frame_num))\n",
    "                np.save(npy_path, keypoints)\n",
    "\n",
    "                # Break gracefully\n",
    "                if cv2.waitKey(10) & 0xFF == ord('q'):\n",
    "                    break\n",
    "                    \n",
    "    cap.release()\n",
    "    cv2.destroyAllWindows()"
   ]
  },
  {
   "cell_type": "code",
   "execution_count": 29,
   "metadata": {},
   "outputs": [],
   "source": [
    "cap.release()\n",
    "cv2.destroyAllWindows()"
   ]
  },
  {
   "cell_type": "markdown",
   "metadata": {},
   "source": [
    "### Preprocess Data & Create Labels"
   ]
  },
  {
   "cell_type": "code",
   "execution_count": 27,
   "metadata": {},
   "outputs": [],
   "source": [
    "from sklearn.model_selection import train_test_split"
   ]
  },
  {
   "cell_type": "code",
   "execution_count": 28,
   "metadata": {},
   "outputs": [],
   "source": [
    "from tensorflow.keras.utils import to_categorical"
   ]
  },
  {
   "cell_type": "code",
   "execution_count": 29,
   "metadata": {},
   "outputs": [],
   "source": [
    "label_map = {label : num for num, label in enumerate(actions) }"
   ]
  },
  {
   "cell_type": "code",
   "execution_count": 30,
   "metadata": {},
   "outputs": [
    {
     "data": {
      "text/plain": [
       "{'hello': 0, 'namaste': 1, 'thankyou': 2}"
      ]
     },
     "execution_count": 30,
     "metadata": {},
     "output_type": "execute_result"
    }
   ],
   "source": [
    "label_map"
   ]
  },
  {
   "cell_type": "code",
   "execution_count": 31,
   "metadata": {},
   "outputs": [],
   "source": [
    "sequences, labels = [], []\n",
    "\n",
    "for action in actions:\n",
    "    for sequence in range(no_sequences):\n",
    "        window = []\n",
    "        for frame_num in range(sequence_length):\n",
    "            res = np.load(os.path.join(DATA_PATH, action, str(sequence), f'{frame_num}.npy'))\n",
    "            window.append(res)\n",
    "        sequences.append(window)\n",
    "        labels.append(label_map[action])"
   ]
  },
  {
   "cell_type": "code",
   "execution_count": 32,
   "metadata": {},
   "outputs": [
    {
     "data": {
      "text/plain": [
       "(90, 30, 1662)"
      ]
     },
     "execution_count": 32,
     "metadata": {},
     "output_type": "execute_result"
    }
   ],
   "source": [
    "np.array(sequences).shape"
   ]
  },
  {
   "cell_type": "code",
   "execution_count": 33,
   "metadata": {},
   "outputs": [],
   "source": [
    "X = np.array(sequences)"
   ]
  },
  {
   "cell_type": "code",
   "execution_count": 34,
   "metadata": {},
   "outputs": [
    {
     "data": {
      "text/plain": [
       "array([[[ 0.53792578,  0.36681488, -1.61581731, ...,  0.        ,\n",
       "          0.        ,  0.        ],\n",
       "        [ 0.53742445,  0.36603341, -1.35335517, ...,  0.        ,\n",
       "          0.        ,  0.        ],\n",
       "        [ 0.53740221,  0.36603484, -1.33491361, ...,  0.        ,\n",
       "          0.        ,  0.        ],\n",
       "        ...,\n",
       "        [ 0.4411481 ,  0.34539229, -1.10086095, ...,  0.32801998,\n",
       "          0.21418852, -0.03000153],\n",
       "        [ 0.43769708,  0.34553567, -1.08807623, ...,  0.30202833,\n",
       "          0.20333353, -0.01368129],\n",
       "        [ 0.4406001 ,  0.34556341, -1.09352577, ...,  0.        ,\n",
       "          0.        ,  0.        ]],\n",
       "\n",
       "       [[ 0.44179338,  0.34681135, -1.10221493, ...,  0.        ,\n",
       "          0.        ,  0.        ],\n",
       "        [ 0.45058674,  0.34702995, -1.14301813, ...,  0.        ,\n",
       "          0.        ,  0.        ],\n",
       "        [ 0.45981082,  0.3470524 , -1.24729824, ...,  0.        ,\n",
       "          0.        ,  0.        ],\n",
       "        ...,\n",
       "        [ 0.44022146,  0.37879488, -1.12397265, ...,  0.        ,\n",
       "          0.        ,  0.        ],\n",
       "        [ 0.44014224,  0.37875646, -1.13880229, ...,  0.26528352,\n",
       "          0.15127555, -0.03917129],\n",
       "        [ 0.44012767,  0.3793388 , -1.11744356, ...,  0.32671982,\n",
       "          0.20532985, -0.02649796]],\n",
       "\n",
       "       [[ 0.4390251 ,  0.37928548, -1.0603987 , ...,  0.33159506,\n",
       "          0.21729064, -0.00675286],\n",
       "        [ 0.43900925,  0.37957096, -1.04900086, ...,  0.32990992,\n",
       "          0.21813779, -0.01989364],\n",
       "        [ 0.43874365,  0.38143793, -1.02738833, ...,  0.32660198,\n",
       "          0.22075261, -0.01817973],\n",
       "        ...,\n",
       "        [ 0.44315857,  0.38055345, -1.0911448 , ...,  0.        ,\n",
       "          0.        ,  0.        ],\n",
       "        [ 0.4423483 ,  0.38137266, -1.11742258, ...,  0.        ,\n",
       "          0.        ,  0.        ],\n",
       "        [ 0.44056779,  0.38147047, -1.12745845, ...,  0.32960048,\n",
       "          0.22175378, -0.03091644]],\n",
       "\n",
       "       ...,\n",
       "\n",
       "       [[ 0.46694279,  0.38507178, -1.22815382, ...,  0.30685499,\n",
       "          0.64361137, -0.09039129],\n",
       "        [ 0.46690893,  0.38451868, -1.29817939, ...,  0.        ,\n",
       "          0.        ,  0.        ],\n",
       "        [ 0.46813291,  0.38416809, -1.21470714, ...,  0.28655115,\n",
       "          0.66157806, -0.06593151],\n",
       "        ...,\n",
       "        [ 0.47385326,  0.3873049 , -0.98194247, ...,  0.31273836,\n",
       "          0.53828198, -0.06616516],\n",
       "        [ 0.4739427 ,  0.38601562, -0.85245419, ...,  0.30032575,\n",
       "          0.54917467, -0.06290651],\n",
       "        [ 0.47402364,  0.38521418, -0.86632377, ...,  0.2889654 ,\n",
       "          0.5667156 , -0.06591543]],\n",
       "\n",
       "       [[ 0.4739415 ,  0.38565043, -0.9010781 , ...,  0.27840963,\n",
       "          0.56510222, -0.07209326],\n",
       "        [ 0.47392997,  0.38692239, -1.03428566, ...,  0.25745669,\n",
       "          0.57691783, -0.0799311 ],\n",
       "        [ 0.47365078,  0.38759071, -1.03304935, ...,  0.25223303,\n",
       "          0.58183819, -0.07054141],\n",
       "        ...,\n",
       "        [ 0.47420374,  0.38731909, -0.97982776, ...,  0.        ,\n",
       "          0.        ,  0.        ],\n",
       "        [ 0.47733384,  0.38526303, -0.86316919, ...,  0.31654915,\n",
       "          0.4884609 , -0.05779785],\n",
       "        [ 0.47907656,  0.3844777 , -0.92994738, ...,  0.31082249,\n",
       "          0.48973185, -0.06711617]],\n",
       "\n",
       "       [[ 0.47991857,  0.38421693, -0.9506923 , ...,  0.30848637,\n",
       "          0.49489132, -0.06366515],\n",
       "        [ 0.47988218,  0.38419893, -0.88981295, ...,  0.        ,\n",
       "          0.        ,  0.        ],\n",
       "        [ 0.47983283,  0.38425121, -0.89833957, ...,  0.30546039,\n",
       "          0.49174288, -0.07015757],\n",
       "        ...,\n",
       "        [ 0.45539317,  0.42117506, -1.22229922, ...,  0.        ,\n",
       "          0.        ,  0.        ],\n",
       "        [ 0.45507789,  0.42221355, -1.05472159, ...,  0.30975726,\n",
       "          0.52987385, -0.07326859],\n",
       "        [ 0.45524287,  0.42694137, -1.36967528, ...,  0.30633602,\n",
       "          0.53846419, -0.0641025 ]]])"
      ]
     },
     "execution_count": 34,
     "metadata": {},
     "output_type": "execute_result"
    }
   ],
   "source": [
    "X"
   ]
  },
  {
   "cell_type": "code",
   "execution_count": 35,
   "metadata": {},
   "outputs": [
    {
     "data": {
      "text/plain": [
       "[0,\n",
       " 0,\n",
       " 0,\n",
       " 0,\n",
       " 0,\n",
       " 0,\n",
       " 0,\n",
       " 0,\n",
       " 0,\n",
       " 0,\n",
       " 0,\n",
       " 0,\n",
       " 0,\n",
       " 0,\n",
       " 0,\n",
       " 0,\n",
       " 0,\n",
       " 0,\n",
       " 0,\n",
       " 0,\n",
       " 0,\n",
       " 0,\n",
       " 0,\n",
       " 0,\n",
       " 0,\n",
       " 0,\n",
       " 0,\n",
       " 0,\n",
       " 0,\n",
       " 0,\n",
       " 1,\n",
       " 1,\n",
       " 1,\n",
       " 1,\n",
       " 1,\n",
       " 1,\n",
       " 1,\n",
       " 1,\n",
       " 1,\n",
       " 1,\n",
       " 1,\n",
       " 1,\n",
       " 1,\n",
       " 1,\n",
       " 1,\n",
       " 1,\n",
       " 1,\n",
       " 1,\n",
       " 1,\n",
       " 1,\n",
       " 1,\n",
       " 1,\n",
       " 1,\n",
       " 1,\n",
       " 1,\n",
       " 1,\n",
       " 1,\n",
       " 1,\n",
       " 1,\n",
       " 1,\n",
       " 2,\n",
       " 2,\n",
       " 2,\n",
       " 2,\n",
       " 2,\n",
       " 2,\n",
       " 2,\n",
       " 2,\n",
       " 2,\n",
       " 2,\n",
       " 2,\n",
       " 2,\n",
       " 2,\n",
       " 2,\n",
       " 2,\n",
       " 2,\n",
       " 2,\n",
       " 2,\n",
       " 2,\n",
       " 2,\n",
       " 2,\n",
       " 2,\n",
       " 2,\n",
       " 2,\n",
       " 2,\n",
       " 2,\n",
       " 2,\n",
       " 2,\n",
       " 2,\n",
       " 2]"
      ]
     },
     "execution_count": 35,
     "metadata": {},
     "output_type": "execute_result"
    }
   ],
   "source": [
    "labels"
   ]
  },
  {
   "cell_type": "code",
   "execution_count": 36,
   "metadata": {},
   "outputs": [],
   "source": [
    "Y = to_categorical(labels).astype(int)"
   ]
  },
  {
   "cell_type": "code",
   "execution_count": 37,
   "metadata": {},
   "outputs": [
    {
     "data": {
      "text/plain": [
       "array([[1, 0, 0],\n",
       "       [1, 0, 0],\n",
       "       [1, 0, 0],\n",
       "       [1, 0, 0],\n",
       "       [1, 0, 0],\n",
       "       [1, 0, 0],\n",
       "       [1, 0, 0],\n",
       "       [1, 0, 0],\n",
       "       [1, 0, 0],\n",
       "       [1, 0, 0],\n",
       "       [1, 0, 0],\n",
       "       [1, 0, 0],\n",
       "       [1, 0, 0],\n",
       "       [1, 0, 0],\n",
       "       [1, 0, 0],\n",
       "       [1, 0, 0],\n",
       "       [1, 0, 0],\n",
       "       [1, 0, 0],\n",
       "       [1, 0, 0],\n",
       "       [1, 0, 0],\n",
       "       [1, 0, 0],\n",
       "       [1, 0, 0],\n",
       "       [1, 0, 0],\n",
       "       [1, 0, 0],\n",
       "       [1, 0, 0],\n",
       "       [1, 0, 0],\n",
       "       [1, 0, 0],\n",
       "       [1, 0, 0],\n",
       "       [1, 0, 0],\n",
       "       [1, 0, 0],\n",
       "       [0, 1, 0],\n",
       "       [0, 1, 0],\n",
       "       [0, 1, 0],\n",
       "       [0, 1, 0],\n",
       "       [0, 1, 0],\n",
       "       [0, 1, 0],\n",
       "       [0, 1, 0],\n",
       "       [0, 1, 0],\n",
       "       [0, 1, 0],\n",
       "       [0, 1, 0],\n",
       "       [0, 1, 0],\n",
       "       [0, 1, 0],\n",
       "       [0, 1, 0],\n",
       "       [0, 1, 0],\n",
       "       [0, 1, 0],\n",
       "       [0, 1, 0],\n",
       "       [0, 1, 0],\n",
       "       [0, 1, 0],\n",
       "       [0, 1, 0],\n",
       "       [0, 1, 0],\n",
       "       [0, 1, 0],\n",
       "       [0, 1, 0],\n",
       "       [0, 1, 0],\n",
       "       [0, 1, 0],\n",
       "       [0, 1, 0],\n",
       "       [0, 1, 0],\n",
       "       [0, 1, 0],\n",
       "       [0, 1, 0],\n",
       "       [0, 1, 0],\n",
       "       [0, 1, 0],\n",
       "       [0, 0, 1],\n",
       "       [0, 0, 1],\n",
       "       [0, 0, 1],\n",
       "       [0, 0, 1],\n",
       "       [0, 0, 1],\n",
       "       [0, 0, 1],\n",
       "       [0, 0, 1],\n",
       "       [0, 0, 1],\n",
       "       [0, 0, 1],\n",
       "       [0, 0, 1],\n",
       "       [0, 0, 1],\n",
       "       [0, 0, 1],\n",
       "       [0, 0, 1],\n",
       "       [0, 0, 1],\n",
       "       [0, 0, 1],\n",
       "       [0, 0, 1],\n",
       "       [0, 0, 1],\n",
       "       [0, 0, 1],\n",
       "       [0, 0, 1],\n",
       "       [0, 0, 1],\n",
       "       [0, 0, 1],\n",
       "       [0, 0, 1],\n",
       "       [0, 0, 1],\n",
       "       [0, 0, 1],\n",
       "       [0, 0, 1],\n",
       "       [0, 0, 1],\n",
       "       [0, 0, 1],\n",
       "       [0, 0, 1],\n",
       "       [0, 0, 1],\n",
       "       [0, 0, 1]])"
      ]
     },
     "execution_count": 37,
     "metadata": {},
     "output_type": "execute_result"
    }
   ],
   "source": [
    "Y"
   ]
  },
  {
   "cell_type": "code",
   "execution_count": 38,
   "metadata": {},
   "outputs": [],
   "source": [
    "X_train, X_test, Y_train, Y_test = train_test_split(X,Y,test_size=0.05)"
   ]
  },
  {
   "cell_type": "code",
   "execution_count": 39,
   "metadata": {},
   "outputs": [
    {
     "data": {
      "text/plain": [
       "(85, 30, 1662)"
      ]
     },
     "execution_count": 39,
     "metadata": {},
     "output_type": "execute_result"
    }
   ],
   "source": [
    "X_train.shape"
   ]
  },
  {
   "cell_type": "code",
   "execution_count": 40,
   "metadata": {},
   "outputs": [
    {
     "data": {
      "text/plain": [
       "(5, 30, 1662)"
      ]
     },
     "execution_count": 40,
     "metadata": {},
     "output_type": "execute_result"
    }
   ],
   "source": [
    "X_test.shape"
   ]
  },
  {
   "cell_type": "markdown",
   "metadata": {},
   "source": [
    "### Build & Train the Model"
   ]
  },
  {
   "cell_type": "code",
   "execution_count": 41,
   "metadata": {},
   "outputs": [],
   "source": [
    "from tensorflow.keras.models import Sequential\n",
    "from tensorflow.keras.layers import LSTM, Dense\n",
    "from tensorflow.keras.callbacks import TensorBoard "
   ]
  },
  {
   "cell_type": "code",
   "execution_count": 42,
   "metadata": {},
   "outputs": [],
   "source": [
    "log_dir = os.path.join('Logs')\n",
    "tb_callback = TensorBoard(log_dir=log_dir)"
   ]
  },
  {
   "cell_type": "code",
   "execution_count": 43,
   "metadata": {},
   "outputs": [],
   "source": [
    "model = Sequential()\n",
    "model.add(LSTM(64, return_sequences=True, activation='relu', input_shape=(30,1662)))\n",
    "model.add(LSTM(128, return_sequences=True, activation='relu'))\n",
    "model.add(LSTM(64, return_sequences=False, activation='relu'))\n",
    "model.add(Dense(64, activation='relu'))\n",
    "model.add(Dense(32, activation='relu'))\n",
    "model.add(Dense(actions.shape[0], activation='softmax'))"
   ]
  },
  {
   "cell_type": "code",
   "execution_count": 44,
   "metadata": {},
   "outputs": [
    {
     "data": {
      "text/plain": [
       "'namaste'"
      ]
     },
     "execution_count": 44,
     "metadata": {},
     "output_type": "execute_result"
    }
   ],
   "source": [
    "res = [0.1,0.85,0.05]\n",
    "    \n",
    "actions[np.argmax(res)]"
   ]
  },
  {
   "cell_type": "code",
   "execution_count": 45,
   "metadata": {},
   "outputs": [],
   "source": [
    "model.compile(optimizer='Adam', loss='categorical_crossentropy', metrics=['categorical_accuracy'])"
   ]
  },
  {
   "cell_type": "code",
   "execution_count": 46,
   "metadata": {},
   "outputs": [
    {
     "name": "stdout",
     "output_type": "stream",
     "text": [
      "Epoch 1/150\n",
      "3/3 [==============================] - 4s 360ms/step - loss: 2.5325 - categorical_accuracy: 0.2975\n",
      "Epoch 2/150\n",
      "3/3 [==============================] - 0s 100ms/step - loss: 1.2623 - categorical_accuracy: 0.2603\n",
      "Epoch 3/150\n",
      "3/3 [==============================] - 0s 104ms/step - loss: 1.1363 - categorical_accuracy: 0.3072\n",
      "Epoch 4/150\n",
      "3/3 [==============================] - 0s 99ms/step - loss: 1.0405 - categorical_accuracy: 0.3523\n",
      "Epoch 5/150\n",
      "3/3 [==============================] - 0s 98ms/step - loss: 1.1166 - categorical_accuracy: 0.3837\n",
      "Epoch 6/150\n",
      "3/3 [==============================] - 0s 101ms/step - loss: 1.7642 - categorical_accuracy: 0.3249\n",
      "Epoch 7/150\n",
      "3/3 [==============================] - 0s 102ms/step - loss: 1.0604 - categorical_accuracy: 0.2877\n",
      "Epoch 8/150\n",
      "3/3 [==============================] - 0s 106ms/step - loss: 1.0149 - categorical_accuracy: 0.5656\n",
      "Epoch 9/150\n",
      "3/3 [==============================] - 0s 105ms/step - loss: 0.8944 - categorical_accuracy: 0.4756\n",
      "Epoch 10/150\n",
      "3/3 [==============================] - 0s 96ms/step - loss: 1.3310 - categorical_accuracy: 0.5459\n",
      "Epoch 11/150\n",
      "3/3 [==============================] - 0s 113ms/step - loss: 0.8676 - categorical_accuracy: 0.6107\n",
      "Epoch 12/150\n",
      "3/3 [==============================] - 0s 108ms/step - loss: 1.0028 - categorical_accuracy: 0.6614\n",
      "Epoch 13/150\n",
      "3/3 [==============================] - 0s 109ms/step - loss: 0.9148 - categorical_accuracy: 0.6008\n",
      "Epoch 14/150\n",
      "3/3 [==============================] - 0s 107ms/step - loss: 0.9158 - categorical_accuracy: 0.4384\n",
      "Epoch 15/150\n",
      "3/3 [==============================] - 0s 107ms/step - loss: 0.7561 - categorical_accuracy: 0.7711\n",
      "Epoch 16/150\n",
      "3/3 [==============================] - 0s 103ms/step - loss: 0.6620 - categorical_accuracy: 0.6458\n",
      "Epoch 17/150\n",
      "3/3 [==============================] - 0s 101ms/step - loss: 0.5851 - categorical_accuracy: 0.6458\n",
      "Epoch 18/150\n",
      "3/3 [==============================] - 0s 106ms/step - loss: 0.8196 - categorical_accuracy: 0.5812\n",
      "Epoch 19/150\n",
      "3/3 [==============================] - 0s 97ms/step - loss: 0.7740 - categorical_accuracy: 0.6008\n",
      "Epoch 20/150\n",
      "3/3 [==============================] - 0s 99ms/step - loss: 0.6627 - categorical_accuracy: 0.6791\n",
      "Epoch 21/150\n",
      "3/3 [==============================] - 0s 106ms/step - loss: 0.7478 - categorical_accuracy: 0.6907\n",
      "Epoch 22/150\n",
      "3/3 [==============================] - 0s 110ms/step - loss: 0.7107 - categorical_accuracy: 0.7358\n",
      "Epoch 23/150\n",
      "3/3 [==============================] - 0s 108ms/step - loss: 0.6591 - categorical_accuracy: 0.6732\n",
      "Epoch 24/150\n",
      "3/3 [==============================] - 0s 107ms/step - loss: 0.6740 - categorical_accuracy: 0.7085\n",
      "Epoch 25/150\n",
      "3/3 [==============================] - 0s 104ms/step - loss: 0.4756 - categorical_accuracy: 0.8063\n",
      "Epoch 26/150\n",
      "3/3 [==============================] - 0s 104ms/step - loss: 0.4193 - categorical_accuracy: 0.7965\n",
      "Epoch 27/150\n",
      "3/3 [==============================] - 0s 100ms/step - loss: 0.7676 - categorical_accuracy: 0.7495\n",
      "Epoch 28/150\n",
      "3/3 [==============================] - 0s 97ms/step - loss: 1.2076 - categorical_accuracy: 0.4541\n",
      "Epoch 29/150\n",
      "3/3 [==============================] - 0s 100ms/step - loss: 0.6148 - categorical_accuracy: 0.6811\n",
      "Epoch 30/150\n",
      "3/3 [==============================] - 0s 96ms/step - loss: 0.7736 - categorical_accuracy: 0.6008\n",
      "Epoch 31/150\n",
      "3/3 [==============================] - 0s 110ms/step - loss: 0.7658 - categorical_accuracy: 0.5500\n",
      "Epoch 32/150\n",
      "3/3 [==============================] - 0s 110ms/step - loss: 0.6158 - categorical_accuracy: 0.8181\n",
      "Epoch 33/150\n",
      "3/3 [==============================] - 0s 105ms/step - loss: 0.5797 - categorical_accuracy: 0.8141\n",
      "Epoch 34/150\n",
      "3/3 [==============================] - 0s 101ms/step - loss: 0.3918 - categorical_accuracy: 0.8787\n",
      "Epoch 35/150\n",
      "3/3 [==============================] - 0s 100ms/step - loss: 0.3103 - categorical_accuracy: 0.8415\n",
      "Epoch 36/150\n",
      "3/3 [==============================] - 0s 98ms/step - loss: 0.8397 - categorical_accuracy: 0.6635\n",
      "Epoch 37/150\n",
      "3/3 [==============================] - 0s 120ms/step - loss: 0.3472 - categorical_accuracy: 0.8591\n",
      "Epoch 38/150\n",
      "3/3 [==============================] - 0s 114ms/step - loss: 0.2864 - categorical_accuracy: 0.8885\n",
      "Epoch 39/150\n",
      "3/3 [==============================] - 0s 107ms/step - loss: 0.2672 - categorical_accuracy: 0.9628\n",
      "Epoch 40/150\n",
      "3/3 [==============================] - 0s 102ms/step - loss: 0.2278 - categorical_accuracy: 0.8923\n",
      "Epoch 41/150\n",
      "3/3 [==============================] - 0s 109ms/step - loss: 0.3223 - categorical_accuracy: 0.8141\n",
      "Epoch 42/150\n",
      "3/3 [==============================] - 0s 98ms/step - loss: 0.3014 - categorical_accuracy: 0.8337\n",
      "Epoch 43/150\n",
      "3/3 [==============================] - 0s 105ms/step - loss: 0.2395 - categorical_accuracy: 0.9080\n",
      "Epoch 44/150\n",
      "3/3 [==============================] - 0s 98ms/step - loss: 0.1286 - categorical_accuracy: 0.9491\n",
      "Epoch 45/150\n",
      "3/3 [==============================] - 0s 100ms/step - loss: 0.1398 - categorical_accuracy: 0.9472\n",
      "Epoch 46/150\n",
      "3/3 [==============================] - 0s 108ms/step - loss: 0.0766 - categorical_accuracy: 0.9804\n",
      "Epoch 47/150\n",
      "3/3 [==============================] - 0s 106ms/step - loss: 0.0466 - categorical_accuracy: 0.9804\n",
      "Epoch 48/150\n",
      "3/3 [==============================] - 0s 99ms/step - loss: 0.0969 - categorical_accuracy: 0.9667\n",
      "Epoch 49/150\n",
      "3/3 [==============================] - 0s 107ms/step - loss: 0.4503 - categorical_accuracy: 0.8923\n",
      "Epoch 50/150\n",
      "3/3 [==============================] - 0s 109ms/step - loss: 0.8549 - categorical_accuracy: 0.7379\n",
      "Epoch 51/150\n",
      "3/3 [==============================] - 0s 108ms/step - loss: 0.3809 - categorical_accuracy: 0.8434\n",
      "Epoch 52/150\n",
      "3/3 [==============================] - 0s 101ms/step - loss: 0.7631 - categorical_accuracy: 0.5930\n",
      "Epoch 53/150\n",
      "3/3 [==============================] - 0s 105ms/step - loss: 0.9446 - categorical_accuracy: 0.6517\n",
      "Epoch 54/150\n",
      "3/3 [==============================] - 0s 99ms/step - loss: 0.8113 - categorical_accuracy: 0.5539\n",
      "Epoch 55/150\n",
      "3/3 [==============================] - 0s 99ms/step - loss: 1.2638 - categorical_accuracy: 0.5735\n",
      "Epoch 56/150\n",
      "3/3 [==============================] - 0s 104ms/step - loss: 0.6808 - categorical_accuracy: 0.7300\n",
      "Epoch 57/150\n",
      "3/3 [==============================] - 0s 103ms/step - loss: 0.5961 - categorical_accuracy: 0.8865\n",
      "Epoch 58/150\n",
      "3/3 [==============================] - 0s 99ms/step - loss: 0.6310 - categorical_accuracy: 0.7279\n",
      "Epoch 59/150\n",
      "3/3 [==============================] - 0s 98ms/step - loss: 0.5316 - categorical_accuracy: 0.8024\n",
      "Epoch 60/150\n",
      "3/3 [==============================] - 0s 96ms/step - loss: 2.1503 - categorical_accuracy: 0.7847\n",
      "Epoch 61/150\n",
      "3/3 [==============================] - 0s 99ms/step - loss: 0.3699 - categorical_accuracy: 0.8102\n",
      "Epoch 62/150\n",
      "3/3 [==============================] - 0s 98ms/step - loss: 0.3519 - categorical_accuracy: 0.8787\n",
      "Epoch 63/150\n",
      "3/3 [==============================] - 0s 100ms/step - loss: 0.2822 - categorical_accuracy: 0.9237\n",
      "Epoch 64/150\n",
      "3/3 [==============================] - 0s 95ms/step - loss: 0.3233 - categorical_accuracy: 0.8885\n",
      "Epoch 65/150\n",
      "3/3 [==============================] - 0s 99ms/step - loss: 0.2481 - categorical_accuracy: 0.9295\n",
      "Epoch 66/150\n",
      "3/3 [==============================] - 0s 103ms/step - loss: 0.2062 - categorical_accuracy: 0.9413\n",
      "Epoch 67/150\n",
      "3/3 [==============================] - 0s 102ms/step - loss: 0.2067 - categorical_accuracy: 0.9178\n",
      "Epoch 68/150\n",
      "3/3 [==============================] - 0s 101ms/step - loss: 0.1165 - categorical_accuracy: 0.9550\n",
      "Epoch 69/150\n",
      "3/3 [==============================] - 0s 101ms/step - loss: 0.3618 - categorical_accuracy: 0.8297\n",
      "Epoch 70/150\n",
      "3/3 [==============================] - 0s 96ms/step - loss: 0.3099 - categorical_accuracy: 0.8728\n",
      "Epoch 71/150\n",
      "3/3 [==============================] - 0s 108ms/step - loss: 0.3277 - categorical_accuracy: 0.8415\n",
      "Epoch 72/150\n",
      "3/3 [==============================] - 0s 95ms/step - loss: 1.1344 - categorical_accuracy: 0.7710\n",
      "Epoch 73/150\n",
      "3/3 [==============================] - 0s 105ms/step - loss: 0.5837 - categorical_accuracy: 0.6692\n",
      "Epoch 74/150\n",
      "3/3 [==============================] - 0s 100ms/step - loss: 0.8851 - categorical_accuracy: 0.5558\n",
      "Epoch 75/150\n",
      "3/3 [==============================] - 0s 96ms/step - loss: 0.7013 - categorical_accuracy: 0.5694\n",
      "Epoch 76/150\n",
      "3/3 [==============================] - 0s 94ms/step - loss: 0.6080 - categorical_accuracy: 0.7281\n",
      "Epoch 77/150\n",
      "3/3 [==============================] - 0s 97ms/step - loss: 0.5815 - categorical_accuracy: 0.9158\n",
      "Epoch 78/150\n",
      "3/3 [==============================] - 0s 98ms/step - loss: 0.6440 - categorical_accuracy: 0.8885\n",
      "Epoch 79/150\n",
      "3/3 [==============================] - 0s 101ms/step - loss: 0.5947 - categorical_accuracy: 0.8943\n",
      "Epoch 80/150\n",
      "3/3 [==============================] - 0s 96ms/step - loss: 0.5024 - categorical_accuracy: 0.9491\n",
      "Epoch 81/150\n",
      "3/3 [==============================] - 0s 94ms/step - loss: 0.4308 - categorical_accuracy: 0.8708\n",
      "Epoch 82/150\n",
      "3/3 [==============================] - 0s 95ms/step - loss: 0.2501 - categorical_accuracy: 0.9413\n",
      "Epoch 83/150\n",
      "3/3 [==============================] - 0s 93ms/step - loss: 0.3846 - categorical_accuracy: 0.8493\n",
      "Epoch 84/150\n",
      "3/3 [==============================] - 0s 94ms/step - loss: 0.5496 - categorical_accuracy: 0.8200\n",
      "Epoch 85/150\n",
      "3/3 [==============================] - 0s 97ms/step - loss: 0.4409 - categorical_accuracy: 0.8474\n",
      "Epoch 86/150\n",
      "3/3 [==============================] - 0s 91ms/step - loss: 0.4196 - categorical_accuracy: 0.8121\n",
      "Epoch 87/150\n",
      "3/3 [==============================] - 0s 93ms/step - loss: 0.3135 - categorical_accuracy: 0.8297\n",
      "Epoch 88/150\n",
      "3/3 [==============================] - 0s 96ms/step - loss: 0.3275 - categorical_accuracy: 0.8748\n",
      "Epoch 89/150\n",
      "3/3 [==============================] - 0s 96ms/step - loss: 0.2945 - categorical_accuracy: 0.8650\n",
      "Epoch 90/150\n",
      "3/3 [==============================] - 0s 98ms/step - loss: 0.3137 - categorical_accuracy: 0.9374\n",
      "Epoch 91/150\n",
      "3/3 [==============================] - 0s 95ms/step - loss: 0.2278 - categorical_accuracy: 0.9374\n",
      "Epoch 92/150\n",
      "3/3 [==============================] - 0s 94ms/step - loss: 0.2058 - categorical_accuracy: 0.9374\n",
      "Epoch 93/150\n",
      "3/3 [==============================] - 0s 92ms/step - loss: 0.1781 - categorical_accuracy: 0.9276\n",
      "Epoch 94/150\n",
      "3/3 [==============================] - 0s 96ms/step - loss: 0.1736 - categorical_accuracy: 0.9452\n",
      "Epoch 95/150\n",
      "3/3 [==============================] - 0s 97ms/step - loss: 0.1400 - categorical_accuracy: 0.9511\n",
      "Epoch 96/150\n",
      "3/3 [==============================] - 0s 97ms/step - loss: 0.2498 - categorical_accuracy: 0.8884\n",
      "Epoch 97/150\n",
      "3/3 [==============================] - 0s 95ms/step - loss: 0.5445 - categorical_accuracy: 0.8141\n",
      "Epoch 98/150\n",
      "3/3 [==============================] - 0s 97ms/step - loss: 0.2537 - categorical_accuracy: 0.9178\n",
      "Epoch 99/150\n",
      "3/3 [==============================] - 0s 99ms/step - loss: 0.1351 - categorical_accuracy: 0.9178\n",
      "Epoch 100/150\n",
      "3/3 [==============================] - 0s 96ms/step - loss: 0.1566 - categorical_accuracy: 0.9452\n",
      "Epoch 101/150\n",
      "3/3 [==============================] - 0s 98ms/step - loss: 0.1567 - categorical_accuracy: 0.9374\n",
      "Epoch 102/150\n",
      "3/3 [==============================] - 0s 95ms/step - loss: 0.1132 - categorical_accuracy: 0.9608\n",
      "Epoch 103/150\n",
      "3/3 [==============================] - 0s 95ms/step - loss: 0.1390 - categorical_accuracy: 0.9198\n",
      "Epoch 104/150\n",
      "3/3 [==============================] - 0s 96ms/step - loss: 0.1178 - categorical_accuracy: 0.9432\n",
      "Epoch 105/150\n",
      "3/3 [==============================] - 0s 96ms/step - loss: 0.1099 - categorical_accuracy: 0.9569\n",
      "Epoch 106/150\n",
      "3/3 [==============================] - 0s 94ms/step - loss: 0.0685 - categorical_accuracy: 0.9667\n",
      "Epoch 107/150\n",
      "3/3 [==============================] - 0s 99ms/step - loss: 0.0858 - categorical_accuracy: 0.9726\n",
      "Epoch 108/150\n",
      "3/3 [==============================] - 0s 99ms/step - loss: 0.0987 - categorical_accuracy: 0.9432\n",
      "Epoch 109/150\n",
      "3/3 [==============================] - 0s 98ms/step - loss: 0.0522 - categorical_accuracy: 0.9843\n",
      "Epoch 110/150\n",
      "3/3 [==============================] - 0s 97ms/step - loss: 0.0408 - categorical_accuracy: 0.9941\n",
      "Epoch 111/150\n",
      "3/3 [==============================] - 0s 95ms/step - loss: 0.0332 - categorical_accuracy: 0.9941\n",
      "Epoch 112/150\n",
      "3/3 [==============================] - 0s 95ms/step - loss: 0.0413 - categorical_accuracy: 0.9784\n",
      "Epoch 113/150\n",
      "3/3 [==============================] - 0s 95ms/step - loss: 0.0623 - categorical_accuracy: 0.9667\n",
      "Epoch 114/150\n",
      "3/3 [==============================] - 0s 95ms/step - loss: 0.0726 - categorical_accuracy: 0.9667\n",
      "Epoch 115/150\n",
      "3/3 [==============================] - 0s 95ms/step - loss: 0.1452 - categorical_accuracy: 0.9139\n",
      "Epoch 116/150\n",
      "3/3 [==============================] - 0s 96ms/step - loss: 0.0648 - categorical_accuracy: 0.9745\n",
      "Epoch 117/150\n",
      "3/3 [==============================] - 0s 96ms/step - loss: 0.0936 - categorical_accuracy: 0.9589\n",
      "Epoch 118/150\n",
      "3/3 [==============================] - 0s 93ms/step - loss: 0.1011 - categorical_accuracy: 0.9550\n",
      "Epoch 119/150\n",
      "3/3 [==============================] - 0s 95ms/step - loss: 0.0571 - categorical_accuracy: 0.9843\n",
      "Epoch 120/150\n",
      "3/3 [==============================] - 0s 94ms/step - loss: 0.1552 - categorical_accuracy: 0.9530\n",
      "Epoch 121/150\n",
      "3/3 [==============================] - 0s 96ms/step - loss: 0.1811 - categorical_accuracy: 0.9159\n",
      "Epoch 122/150\n",
      "3/3 [==============================] - 0s 94ms/step - loss: 0.1684 - categorical_accuracy: 0.9315\n",
      "Epoch 123/150\n",
      "3/3 [==============================] - 0s 97ms/step - loss: 0.0949 - categorical_accuracy: 0.9589\n",
      "Epoch 124/150\n",
      "3/3 [==============================] - 0s 94ms/step - loss: 0.0607 - categorical_accuracy: 0.9608\n",
      "Epoch 125/150\n",
      "3/3 [==============================] - 0s 98ms/step - loss: 0.0712 - categorical_accuracy: 0.9628\n",
      "Epoch 126/150\n",
      "3/3 [==============================] - 0s 96ms/step - loss: 0.0622 - categorical_accuracy: 0.9745\n",
      "Epoch 127/150\n",
      "3/3 [==============================] - 0s 100ms/step - loss: 0.0566 - categorical_accuracy: 0.9824\n",
      "Epoch 128/150\n",
      "3/3 [==============================] - 0s 96ms/step - loss: 0.0561 - categorical_accuracy: 0.9843\n",
      "Epoch 129/150\n",
      "3/3 [==============================] - 0s 98ms/step - loss: 0.0312 - categorical_accuracy: 1.0000\n",
      "Epoch 130/150\n",
      "3/3 [==============================] - 0s 97ms/step - loss: 0.0421 - categorical_accuracy: 0.9902\n",
      "Epoch 131/150\n",
      "3/3 [==============================] - 0s 96ms/step - loss: 0.0569 - categorical_accuracy: 0.9765\n",
      "Epoch 132/150\n",
      "3/3 [==============================] - 0s 97ms/step - loss: 0.0633 - categorical_accuracy: 0.9745\n",
      "Epoch 133/150\n",
      "3/3 [==============================] - 0s 94ms/step - loss: 0.0924 - categorical_accuracy: 0.9648\n",
      "Epoch 134/150\n",
      "3/3 [==============================] - 0s 93ms/step - loss: 0.0800 - categorical_accuracy: 0.9648\n",
      "Epoch 135/150\n",
      "3/3 [==============================] - 0s 98ms/step - loss: 0.0233 - categorical_accuracy: 0.9941\n",
      "Epoch 136/150\n",
      "3/3 [==============================] - 0s 98ms/step - loss: 0.0244 - categorical_accuracy: 0.9941\n",
      "Epoch 137/150\n",
      "3/3 [==============================] - 0s 95ms/step - loss: 0.0198 - categorical_accuracy: 1.0000\n",
      "Epoch 138/150\n",
      "3/3 [==============================] - 0s 93ms/step - loss: 0.0240 - categorical_accuracy: 1.0000\n",
      "Epoch 139/150\n",
      "3/3 [==============================] - 0s 103ms/step - loss: 0.0194 - categorical_accuracy: 0.9941\n",
      "Epoch 140/150\n",
      "3/3 [==============================] - 0s 93ms/step - loss: 0.0297 - categorical_accuracy: 1.0000\n",
      "Epoch 141/150\n",
      "3/3 [==============================] - 0s 95ms/step - loss: 0.0522 - categorical_accuracy: 0.9824\n",
      "Epoch 142/150\n",
      "3/3 [==============================] - 0s 101ms/step - loss: 0.0567 - categorical_accuracy: 0.9804\n",
      "Epoch 143/150\n",
      "3/3 [==============================] - 0s 99ms/step - loss: 0.0233 - categorical_accuracy: 1.0000\n",
      "Epoch 144/150\n",
      "3/3 [==============================] - 0s 96ms/step - loss: 0.0190 - categorical_accuracy: 0.9902\n",
      "Epoch 145/150\n",
      "3/3 [==============================] - 0s 95ms/step - loss: 0.1112 - categorical_accuracy: 0.9452\n",
      "Epoch 146/150\n",
      "3/3 [==============================] - 0s 101ms/step - loss: 0.0919 - categorical_accuracy: 0.9530\n",
      "Epoch 147/150\n"
     ]
    },
    {
     "name": "stdout",
     "output_type": "stream",
     "text": [
      "3/3 [==============================] - 0s 97ms/step - loss: 0.0829 - categorical_accuracy: 0.9648\n",
      "Epoch 148/150\n",
      "3/3 [==============================] - 0s 96ms/step - loss: 0.1541 - categorical_accuracy: 0.9511\n",
      "Epoch 149/150\n",
      "3/3 [==============================] - 0s 95ms/step - loss: 0.0320 - categorical_accuracy: 1.0000\n",
      "Epoch 150/150\n",
      "3/3 [==============================] - 0s 93ms/step - loss: 1.5984 - categorical_accuracy: 0.9569\n"
     ]
    },
    {
     "data": {
      "text/plain": [
       "<tensorflow.python.keras.callbacks.History at 0x7fe11036ac10>"
      ]
     },
     "execution_count": 46,
     "metadata": {},
     "output_type": "execute_result"
    }
   ],
   "source": [
    "model.fit(X_train, Y_train, epochs=150, callbacks=[tb_callback])"
   ]
  },
  {
   "cell_type": "code",
   "execution_count": 47,
   "metadata": {},
   "outputs": [
    {
     "name": "stdout",
     "output_type": "stream",
     "text": [
      "Model: \"sequential\"\n",
      "_________________________________________________________________\n",
      "Layer (type)                 Output Shape              Param #   \n",
      "=================================================================\n",
      "lstm (LSTM)                  (None, 30, 64)            442112    \n",
      "_________________________________________________________________\n",
      "lstm_1 (LSTM)                (None, 30, 128)           98816     \n",
      "_________________________________________________________________\n",
      "lstm_2 (LSTM)                (None, 64)                49408     \n",
      "_________________________________________________________________\n",
      "dense (Dense)                (None, 64)                4160      \n",
      "_________________________________________________________________\n",
      "dense_1 (Dense)              (None, 32)                2080      \n",
      "_________________________________________________________________\n",
      "dense_2 (Dense)              (None, 3)                 99        \n",
      "=================================================================\n",
      "Total params: 596,675\n",
      "Trainable params: 596,675\n",
      "Non-trainable params: 0\n",
      "_________________________________________________________________\n"
     ]
    }
   ],
   "source": [
    "model.summary()"
   ]
  },
  {
   "cell_type": "markdown",
   "metadata": {},
   "source": [
    "### Make Predictions"
   ]
  },
  {
   "cell_type": "code",
   "execution_count": 48,
   "metadata": {},
   "outputs": [
    {
     "name": "stdout",
     "output_type": "stream",
     "text": [
      "[[8.0929548e-01 7.7679932e-02 1.1302460e-01]\n",
      " [8.5253296e-06 3.2448988e-02 9.6754253e-01]\n",
      " [2.2343052e-09 9.9994171e-01 5.8274756e-05]\n",
      " [9.0229678e-01 3.6556520e-02 6.1146714e-02]\n",
      " [6.7521158e-09 9.9977106e-01 2.2900113e-04]]\n"
     ]
    }
   ],
   "source": [
    "results = model.predict(X_test)\n",
    "\n",
    "print(results)"
   ]
  },
  {
   "cell_type": "code",
   "execution_count": 49,
   "metadata": {},
   "outputs": [
    {
     "name": "stdout",
     "output_type": "stream",
     "text": [
      "hello\n",
      "thankyou\n",
      "namaste\n",
      "hello\n",
      "namaste\n"
     ]
    }
   ],
   "source": [
    "for res in results:\n",
    "    print(actions[np.argmax(res)])"
   ]
  },
  {
   "cell_type": "code",
   "execution_count": 50,
   "metadata": {},
   "outputs": [
    {
     "data": {
      "text/plain": [
       "array([[1, 0, 0],\n",
       "       [0, 1, 0],\n",
       "       [0, 1, 0],\n",
       "       [1, 0, 0],\n",
       "       [0, 1, 0]])"
      ]
     },
     "execution_count": 50,
     "metadata": {},
     "output_type": "execute_result"
    }
   ],
   "source": [
    "Y_test"
   ]
  },
  {
   "cell_type": "markdown",
   "metadata": {},
   "source": [
    "### Save Model "
   ]
  },
  {
   "cell_type": "code",
   "execution_count": 51,
   "metadata": {},
   "outputs": [],
   "source": [
    "model.save('ISL.h5')\n",
    "\n",
    "# model.load_weights('ISL.h5')"
   ]
  },
  {
   "cell_type": "markdown",
   "metadata": {},
   "source": [
    "### Logistic Regression"
   ]
  },
  {
   "cell_type": "code",
   "execution_count": 52,
   "metadata": {},
   "outputs": [],
   "source": [
    "# from sklearn import linear_model\n",
    "# from sklearn import metrics\n",
    "\n",
    "# nsamples, nx, ny = X_train.shape\n",
    "# X_train_2D = X_train.reshape((nsamples,nx*ny))\n",
    "\n",
    "\n",
    "# n_records, n_values = Y_train.shape\n",
    "# Y_train_1D = np.zeros(shape=(n_records,))\n",
    "# for i in range(n_records):\n",
    "#     for j in range(n_values):\n",
    "#         if Y_train[i][j] == 1:\n",
    "#             Y_train_1D[i] = j\n",
    "\n",
    "# logistic_regression_model = linear_model.LogisticRegression(multi_class='ovr', solver='liblinear')\n",
    "\n",
    "# logistic_regression_model.fit(X_train_2D, Y_train_1D)\n"
   ]
  },
  {
   "cell_type": "code",
   "execution_count": 53,
   "metadata": {},
   "outputs": [],
   "source": [
    "# def return_1D(arr):\n",
    "#     n_records, n_values = arr.shape\n",
    "#     new_arr = np.zeros(shape=(n_records,))\n",
    "#     for i in range(n_records):\n",
    "#         for j in range(n_values):\n",
    "#             if arr[i][j] == 1:\n",
    "#                 arr[i] = j\n",
    "#     return new_arr\n",
    "\n",
    "# def return_2D(arr): \n",
    "#     nsamples, nx, ny = arr.shape\n",
    "#     return arr.reshape((nsamples,nx*ny))"
   ]
  },
  {
   "cell_type": "code",
   "execution_count": 54,
   "metadata": {},
   "outputs": [],
   "source": [
    "# X_test_2D = return_2D(X_test)\n",
    "# Y_test_1D = return_1D(Y_test)\n",
    "\n",
    "# logistic_regression_model.predict(X_test_2D)"
   ]
  },
  {
   "cell_type": "code",
   "execution_count": 55,
   "metadata": {},
   "outputs": [],
   "source": [
    "# logistic_regression_model.score(X_test_2D, Y_test_1D)"
   ]
  },
  {
   "cell_type": "code",
   "execution_count": 56,
   "metadata": {},
   "outputs": [],
   "source": [
    "# Y_test_1D"
   ]
  },
  {
   "cell_type": "code",
   "execution_count": 57,
   "metadata": {},
   "outputs": [],
   "source": [
    "# Y_test"
   ]
  },
  {
   "cell_type": "markdown",
   "metadata": {},
   "source": [
    "### Evaluations"
   ]
  },
  {
   "cell_type": "code",
   "execution_count": 58,
   "metadata": {},
   "outputs": [],
   "source": [
    "from sklearn.metrics import multilabel_confusion_matrix, accuracy_score"
   ]
  },
  {
   "cell_type": "code",
   "execution_count": 59,
   "metadata": {},
   "outputs": [],
   "source": [
    "yhat = model.predict(X_test)"
   ]
  },
  {
   "cell_type": "code",
   "execution_count": 60,
   "metadata": {},
   "outputs": [],
   "source": [
    "ytrue = np.argmax(Y_test, axis=1).tolist()\n",
    "yhat = np.argmax(yhat, axis=1).tolist()"
   ]
  },
  {
   "cell_type": "code",
   "execution_count": 61,
   "metadata": {},
   "outputs": [
    {
     "name": "stdout",
     "output_type": "stream",
     "text": [
      "[0, 1, 1, 0, 1]\n",
      "[0, 2, 1, 0, 1]\n"
     ]
    }
   ],
   "source": [
    "print(ytrue)\n",
    "print(yhat)"
   ]
  },
  {
   "cell_type": "code",
   "execution_count": 62,
   "metadata": {},
   "outputs": [
    {
     "data": {
      "text/plain": [
       "array([[[3, 0],\n",
       "        [0, 2]],\n",
       "\n",
       "       [[2, 0],\n",
       "        [1, 2]],\n",
       "\n",
       "       [[4, 1],\n",
       "        [0, 0]]])"
      ]
     },
     "execution_count": 62,
     "metadata": {},
     "output_type": "execute_result"
    }
   ],
   "source": [
    "# Draw confusion matrix\n",
    "multilabel_confusion_matrix(ytrue, yhat)"
   ]
  },
  {
   "cell_type": "markdown",
   "metadata": {},
   "source": [
    "### Live Testing"
   ]
  },
  {
   "cell_type": "code",
   "execution_count": 69,
   "metadata": {},
   "outputs": [
    {
     "name": "stdout",
     "output_type": "stream",
     "text": [
      "[9.9665821e-01 6.7828258e-04 2.6634855e-03] hello\n",
      "[0.17459016 0.04783424 0.77757555] thankyou\n",
      "[0.72869426 0.05805866 0.21324709] hello\n",
      "[0.1644102  0.1192112  0.71637857] thankyou\n",
      "[9.7565237e-05 9.7579205e-01 2.4110403e-02] namaste\n",
      "[2.4751286e-04 1.4699033e-01 8.5276216e-01] thankyou\n",
      "[0.9064578  0.05820121 0.035341  ] hello\n"
     ]
    }
   ],
   "source": [
    "# New detection variables\n",
    "sequence = []\n",
    "sentence = []\n",
    "threshold = 0.7\n",
    "\n",
    "cap = cv2.VideoCapture(0)\n",
    "with mp_holistic.Holistic(min_detection_confidence=0.6, min_tracking_confidence=0.6) as holistic:\n",
    "    while cap.isOpened():\n",
    "        # Capture Video\n",
    "        ret, frame = cap.read()\n",
    "\n",
    "        # Detect Keypoints\n",
    "        image, results = mediapipe_detection(frame, holistic)\n",
    "        #print(results)\n",
    "\n",
    "        # Draw Landmarks\n",
    "        draw_landmarks(image, results)\n",
    "        \n",
    "        # Prediction Logic\n",
    "        keypoints = extract_keypoints(results)\n",
    "        sequence.append(keypoints)\n",
    "        sequence = sequence[-30:]\n",
    "        \n",
    "        if len(sequence) == 30:\n",
    "            res = model.predict(np.expand_dims(sequence, axis=0))[0]\n",
    "        \n",
    "         #3. Viz logic\n",
    "        if res[np.argmax(res)] > threshold: \n",
    "            if len(sentence) > 0: \n",
    "                if actions[np.argmax(res)] != sentence[-1]:\n",
    "                    print(res, actions[np.argmax(res)])\n",
    "                    sentence.append(actions[np.argmax(res)])\n",
    "            else:\n",
    "                print(res, actions[np.argmax(res)])\n",
    "                sentence.append(actions[np.argmax(res)])\n",
    "\n",
    "        if len(sentence) > 5: \n",
    "            sentence = sentence[-5:]\n",
    "\n",
    "            # Viz probabilities\n",
    "#             image = prob_viz(res, actions, image, colors)\n",
    "            \n",
    "        cv2.rectangle(image, (0,0), (640, 40), (245, 117, 16), -1)\n",
    "        cv2.putText(image, ' '.join(sentence), (3,30), \n",
    "                       cv2.FONT_HERSHEY_SIMPLEX, 1, (255, 255, 255), 2, cv2.LINE_AA)\n",
    "        \n",
    "        # Show Video\n",
    "        cv2.imshow('OpenCV Webcam', image)\n",
    "        # Quit\n",
    "        if cv2.waitKey(10) & 0xFF == ord('q'):\n",
    "            break\n",
    "\n",
    "    cap.release()\n",
    "    cv2.destroyAllWindows()"
   ]
  },
  {
   "cell_type": "code",
   "execution_count": 70,
   "metadata": {},
   "outputs": [],
   "source": [
    "cap.release()\n",
    "cv2.destroyAllWindows()"
   ]
  },
  {
   "cell_type": "code",
   "execution_count": null,
   "metadata": {},
   "outputs": [],
   "source": []
  }
 ],
 "metadata": {
  "kernelspec": {
   "display_name": "isl",
   "language": "python",
   "name": "isl"
  },
  "language_info": {
   "codemirror_mode": {
    "name": "ipython",
    "version": 3
   },
   "file_extension": ".py",
   "mimetype": "text/x-python",
   "name": "python",
   "nbconvert_exporter": "python",
   "pygments_lexer": "ipython3",
   "version": "3.8.5"
  }
 },
 "nbformat": 4,
 "nbformat_minor": 4
}
